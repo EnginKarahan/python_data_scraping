{
 "cells": [
  {
   "cell_type": "markdown",
   "metadata": {
    "slideshow": {
     "slide_type": "slide"
    }
   },
   "source": [
    "## Data Scraping mit Python\n",
    "Dr. Carsten Schwemmer\n",
    "\n",
    "\n",
    "<img src=\"http://webdata-scraping.com/media/2015/01/Web-Scraping-Process.png\" alt=\"Drawing\" style=\"width: 800px;\"/>"
   ]
  },
  {
   "cell_type": "markdown",
   "metadata": {
    "slideshow": {
     "slide_type": "slide"
    }
   },
   "source": [
    "## Warum Data Scraping?\n",
    "<img src=\"http://www.allaccess.com/assets/img/content/merge/2020/m-03-10-pic1.jpg.pagespeed.ce.fOkDznfn-L.jpg\" alt=\"Drawing\" style=\"width: 600px;\"/>\n"
   ]
  },
  {
   "cell_type": "markdown",
   "metadata": {
    "slideshow": {
     "slide_type": "slide"
    }
   },
   "source": [
    "## Warum Data Scraping?\n",
    "\n",
    "- Für die meisten Analyseverfahren in der Forschung benötigen wir **strukturierte** Daten, z.B. in Form von Tabellen\n",
    "- Ein Großteil der im Web verfügbaren Daten liegt aber in **unstrukturierten** oder komplexen Formen vor\n",
    "- In diesem Kurs geht es um die automatisierte Extraktion von Daten zur Umwandlung in einen strukturierten Datensatz"
   ]
  },
  {
   "cell_type": "markdown",
   "metadata": {
    "slideshow": {
     "slide_type": "slide"
    }
   },
   "source": [
    "## Warum automatisieren?\n",
    "\n",
    "- Computer sind besser für repetitive Aufgaben geeignet als Menschen\n",
    "- Menschliche Arbeitszeit ist deutlich kostspieliger als Rechenzeit\n",
    "- Verwendung von Computerprogrammen ermöglicht Reproduzierbarkeit\n",
    "- Weil es Spaß macht! =)"
   ]
  },
  {
   "cell_type": "markdown",
   "metadata": {
    "slideshow": {
     "slide_type": "slide"
    }
   },
   "source": [
    "## Daten - menschenlesbar vs. maschinenlesbar\n",
    "<img src=\"https://www.dropbox.com/s/oz869wxo6sx0qgo/obama_tweet_hate.JPG?dl=1\" alt=\"Drawing\" style=\"width: 800px;\"/>\n"
   ]
  },
  {
   "cell_type": "markdown",
   "metadata": {
    "slideshow": {
     "slide_type": "slide"
    }
   },
   "source": [
    "``` \n",
    "{'created_at': 'Sun Aug 13 00:06:09 +0000 2017',\n",
    " 'favorite_count': 4528108,\n",
    " 'hashtags': [],\n",
    " 'id': 896523232098078720,\n",
    " 'id_str': '896523232098078720',\n",
    " 'lang': 'en',\n",
    " 'media': [{'display_url': 'pic.twitter.com/InZ58zkoAm',\n",
    "            'expanded_url': 'https://twitter.com/BarackObama/status/896523232098078720/photo/1',\n",
    "            'id': 896523225760387072,\n",
    "            'media_url': 'http://pbs.twimg.com/media/DHEXH7RV0AAUwKj.jpg',\n",
    "            'media_url_https': 'https://pbs.twimg.com/media/DHEXH7RV0AAUwKj.jpg',\n",
    "            'sizes': {'large': {'h': 800, 'resize': 'fit', 'w': 1200},\n",
    "                      'medium': {'h': 800, 'resize': 'fit', 'w': 1200},\n",
    "                      'small': {'h': 453, 'resize': 'fit', 'w': 680},\n",
    "                      'thumb': {'h': 150, 'resize': 'crop', 'w': 150}},\n",
    "            'type': 'photo',\n",
    "            'url': 'https://t.co/InZ58zkoAm'}],\n",
    " 'retweet_count': 1687872,\n",
    " 'source': '<a href=\"http://twitter.com/download/iphone\" '\n",
    "           'rel=\"nofollow\">Twitter for iPhone</a>',\n",
    " 'text': '\"No one is born hating another person because of the color of his '\n",
    "         'skin or his background or his religion...\" https://t.co/InZ58zkoAm',\n",
    " 'urls': [],\n",
    " 'user_mentions': []}\n",
    "``` \n"
   ]
  },
  {
   "cell_type": "markdown",
   "metadata": {
    "slideshow": {
     "slide_type": "slide"
    }
   },
   "source": [
    "<img src=\"https://www.dropbox.com/s/o10azdtn8n0urjh/shanghai_rankings.JPG?dl=1\" alt=\"Drawing\" style=\"width: 1000px;\"/>"
   ]
  },
  {
   "cell_type": "markdown",
   "metadata": {
    "slideshow": {
     "slide_type": "slide"
    }
   },
   "source": [
    "````\n",
    "<tr class=\"bgfd\"><td>1</td><td class=\"left\">\n",
    "<a target=\"_blank\" href=\"World-University-Rankings/Harvard-University.html\">Harvard University</a></td>\n",
    "<td><a target=\"_blank\" href=\"World-University-Rankings-2017/USA.html\"\n",
    "title=\"View universities in USA.\">\n",
    "<img src=\"image/flag/USA.png\"></a>\n",
    "</td><td><div>1</div></td><td><div>100.0</div></td><td><div>100.0</div></td><td style=\"display: none;margin:0;text-align:center;\"><div>100.0</div></td><td  style=\"display: none;margin:0;text-align:center;\"><div>100.0</div></td><td  style=\"display: none;margin:0;text-align:center;\"><div>100.0</div></td><td  style=\"display: none;margin:0;text-align:center;\"><div>100.0</div></td><td  style=\"display: none;margin:0;text-align:center;\"><div>79.5</div></td></tr>\n",
    "````"
   ]
  },
  {
   "cell_type": "markdown",
   "metadata": {
    "slideshow": {
     "slide_type": "slide"
    }
   },
   "source": [
    "## Über mich\n",
    "\n",
    "- M.A. Soziologie, Promotion im Bereich \"Computational Methods\"\n",
    "- Lehrveranstaltungen zu Datenbeschaffung, Datenanalyse und quantitativer Textanalyse\n",
    "- E-Mail: c.schwem2er@gmail.com\n",
    "- Beispielprojekte für Data Scraping:\n",
    "    - Ethnische Diskriminierung auf Carpooling Plattformen\n",
    "    - Produktplatzierung auf YouTube\n",
    "    - Repräsentation von Frauen und ethnischen Gruppen in TED Talks \n"
   ]
  },
  {
   "cell_type": "markdown",
   "metadata": {
    "slideshow": {
     "slide_type": "slide"
    }
   },
   "source": [
    "### Anwendungsbeispiel: Ethnische Diskriminierung auf Carpooling Plattformen\n"
   ]
  },
  {
   "cell_type": "markdown",
   "metadata": {
    "slideshow": {
     "slide_type": "fragment"
    }
   },
   "source": [
    "<img src=\"https://www.dropbox.com/s/nsnca1bf0m06v96/interface.png?dl=1\" alt=\"Drawing\" style=\"width: 650px;\"/>\n",
    "\n",
    "https://doi.org/10.1093/esr/jcy024"
   ]
  },
  {
   "cell_type": "markdown",
   "metadata": {
    "slideshow": {
     "slide_type": "slide"
    }
   },
   "source": [
    "### Anwendungsbeispiel: Produktplatzierungen auf YouTube"
   ]
  },
  {
   "cell_type": "markdown",
   "metadata": {
    "slideshow": {
     "slide_type": "fragment"
    }
   },
   "source": [
    "<img src=\"https://www.dropbox.com/s/8s0vzaxbk4rjrd0/fertigohneAB.png?dl=1\" alt=\"Drawing\" style=\"width: 900px;\"/>\n",
    "\n",
    "https://doi.org/10.1177%2F2056305118786720\n",
    "\n"
   ]
  },
  {
   "cell_type": "markdown",
   "metadata": {
    "slideshow": {
     "slide_type": "slide"
    }
   },
   "source": [
    "###  Anwendungsbeispiel: Repräsentation von Frauen und ethnischen Gruppen in TED Talks"
   ]
  },
  {
   "cell_type": "markdown",
   "metadata": {
    "slideshow": {
     "slide_type": "fragment"
    }
   },
   "source": [
    "<img src=\"https://www.carstenschwemmer.com/img/ted_descriptive_representation.png\" alt=\"Drawing\" style=\"width: 700px;\"/>\n",
    "\n",
    "https://doi.org/10.1080/2474736X.2019.1646102\n",
    "\n",
    "\n"
   ]
  },
  {
   "cell_type": "markdown",
   "metadata": {
    "slideshow": {
     "slide_type": "slide"
    }
   },
   "source": [
    "## Wie lernen wir? \n",
    "\n",
    "Programmierkenntnisse und Data Scraping Techniken nach dem Prinzip **Learning by doing**:\n",
    "\n",
    "- wenig Theorie, viel Praxis\n",
    "- gemeinsame Besprechung und Anwendung von Python Code\n",
    "- eigenständige Übungsaufgaben "
   ]
  },
  {
   "cell_type": "markdown",
   "metadata": {
    "slideshow": {
     "slide_type": "slide"
    }
   },
   "source": [
    "## Kursorganisation\n",
    "\n",
    "- die Inhalte werden überwiegend in Form von aufgezeichneten Videos vermittelt:\n",
    "https://www.youtube.com/playlist?list=PLVPBmDxTd7erX7c_o9BGCleD9UZKLyM0L\n",
    "- die Notebooks zum Kurs beinhalten Übungsaufgaben, deren Bearbeitung dringend empfohlen wird\n",
    "- alle für den Kurs benötigten Unterlagen sind auf [Github](https://www.youtube.com/watch?v=w3jLJU7DT5E) verfügbar: https://github.com/cschwem2er/python_data_scraping"
   ]
  },
  {
   "cell_type": "markdown",
   "metadata": {
    "slideshow": {
     "slide_type": "slide"
    }
   },
   "source": [
    "## Anforderungen für die Kursteilnahme\n",
    "\n",
    "- empfohlen wird sicherer Umgang mit mindestens einer **syntaxbasierten** Statistiksoftware (z.B. Stata / SPSS) oder Programmiersprache (z.B. R)\n",
    "- Interesse an einem Kurs, der sich fast ausschließlich mit **Programmierung zur Datenbeschaffung** beschäftigt (Datenanalyse wird vernachlässigt)\n",
    "- Bereitschaft **viel Zeit für Vor/-Nachbereitungen und Portfolio Aufgaben** zu investieren. "
   ]
  },
  {
   "cell_type": "markdown",
   "metadata": {
    "slideshow": {
     "slide_type": "slide"
    }
   },
   "source": [
    "## Programmiersprache - warum Python?\n",
    "\n",
    "- Flexible Programmiersprache\n",
    "- Kostenlos und Open-Source\n",
    "- Einfach zu erlernen\n",
    "- Eine der meistgenutzten Programmiersprachen [weltweit](https://www.tiobe.com/tiobe-index/)\n",
    "- Ausgezeichnete Basisfunktionalität, viele Zusatzpakete für Datascraping\n",
    "- Beste Alternative für Data Scraping: `R`"
   ]
  },
  {
   "cell_type": "markdown",
   "metadata": {
    "slideshow": {
     "slide_type": "slide"
    }
   },
   "source": [
    "## Data Scraping - Literaturempfehlung\n",
    "\n",
    "\n",
    "\n",
    "<img src=\"https://covers.oreillystatic.com/images/0636920034391/lrg.jpg\" alt=\"Drawing\" style=\"width: \n",
    "400px;\"/>\n",
    "\n",
    "[Web scraping with Python](http://shop.oreilly.com/product/0636920034391.do) mit [Code Beispielen](https://github.com/REMitchell/python-scraping)"
   ]
  },
  {
   "cell_type": "markdown",
   "metadata": {
    "slideshow": {
     "slide_type": "slide"
    }
   },
   "source": [
    "## Vorbereitungen für den Start"
   ]
  },
  {
   "cell_type": "markdown",
   "metadata": {
    "slideshow": {
     "slide_type": "fragment"
    }
   },
   "source": [
    "- Jede/r Teilnehmer/in benötigt einen **eigenen Rechner**, auf dem die erforderliche **Software** bereits eingereichtet ist\n",
    "- Zudem benötigen wir **Zugangsrechte** zu Programmierschnittstellen, insbesondere zu **The Guardian** und **Twitter**\n",
    "- Informationen zur Installation von Software und Beschaffung der Zugangsrechte befinden sich auf **Github im Ordner \"Setup\" -> \"software_und_vorbereitungen.pdf\"**"
   ]
  },
  {
   "cell_type": "markdown",
   "metadata": {},
   "source": [
    "<br>\n",
    "<br>\n",
    "\n",
    "\n",
    "___\n",
    "\n",
    "                \n",
    "**Kontakt: Carsten Schwemmer** (Webseite: www.carstenschwemmer.com,  Email: c.schwem2er@gmail.com)"
   ]
  }
 ],
 "metadata": {
  "kernelspec": {
   "display_name": "Python 3",
   "language": "python",
   "name": "python3"
  },
  "language_info": {
   "codemirror_mode": {
    "name": "ipython",
    "version": 3
   },
   "file_extension": ".py",
   "mimetype": "text/x-python",
   "name": "python",
   "nbconvert_exporter": "python",
   "pygments_lexer": "ipython3",
   "version": "3.7.6"
  }
 },
 "nbformat": 4,
 "nbformat_minor": 2
}
