{
 "cells": [
  {
   "cell_type": "markdown",
   "metadata": {
    "slideshow": {
     "slide_type": "slide"
    }
   },
   "source": [
    "## Reguläre Ausdrücke\n",
    "\n"
   ]
  },
  {
   "cell_type": "markdown",
   "metadata": {
    "slideshow": {
     "slide_type": "subslide"
    }
   },
   "source": [
    "### Eingangsbeispiel -  Standardisierung von Straßennamen"
   ]
  },
  {
   "cell_type": "code",
   "execution_count": 1,
   "metadata": {
    "slideshow": {
     "slide_type": "subslide"
    }
   },
   "outputs": [
    {
     "data": {
      "text/plain": [
       "'100 NORTH MAIN RD.'"
      ]
     },
     "execution_count": 1,
     "metadata": {},
     "output_type": "execute_result"
    }
   ],
   "source": [
    "string = '100 NORTH MAIN ROAD'\n",
    "string.replace(\"ROAD\", \"RD.\")"
   ]
  },
  {
   "cell_type": "code",
   "execution_count": 2,
   "metadata": {
    "slideshow": {
     "slide_type": "subslide"
    }
   },
   "outputs": [
    {
     "data": {
      "text/plain": [
       "'100 NORTH BRD. RD.'"
      ]
     },
     "execution_count": 2,
     "metadata": {},
     "output_type": "execute_result"
    }
   ],
   "source": [
    "string = '100 NORTH BROAD ROAD' # problem\n",
    "string.replace(\"ROAD\", \"RD.\")"
   ]
  },
  {
   "cell_type": "code",
   "execution_count": 3,
   "metadata": {
    "slideshow": {
     "slide_type": "subslide"
    }
   },
   "outputs": [
    {
     "data": {
      "text/plain": [
       "'100 NORTH BROAD RD.'"
      ]
     },
     "execution_count": 3,
     "metadata": {},
     "output_type": "execute_result"
    }
   ],
   "source": [
    "string[:-4] + string[-4:].replace('ROAD', 'RD.') # umstaendliche und spezifische loesung"
   ]
  },
  {
   "cell_type": "code",
   "execution_count": 4,
   "metadata": {
    "slideshow": {
     "slide_type": "subslide"
    }
   },
   "outputs": [
    {
     "data": {
      "text/plain": [
       "'100 NORTH BROAD RD.'"
      ]
     },
     "execution_count": 4,
     "metadata": {},
     "output_type": "execute_result"
    }
   ],
   "source": [
    "import re\n",
    "re.sub('ROAD$', 'RD.', string) # regulaerer ausdruck"
   ]
  },
  {
   "cell_type": "markdown",
   "metadata": {
    "slideshow": {
     "slide_type": "subslide"
    }
   },
   "source": [
    "[Reguläre Ausdrücke](https://de.wikipedia.org/wiki/Regul%C3%A4rer_Ausdruck) (regular expressions) spezifizieren Mengen von Zeichenketten, die über verschiedene Operationen identifiziert werden können. Für Data Scraping sind reguläre Ausdrücke sehr hilfreich um z.B. relevante Texte aus Webseiten PDF's zu extrahieren.\n",
    "\n",
    "> Some people, when confronted with a problem, think “I know, I'll use regular expressions.” Now they have two problems.\n",
    "\n",
    "> *Jamie Zawinski* \t "
   ]
  },
  {
   "cell_type": "markdown",
   "metadata": {
    "slideshow": {
     "slide_type": "subslide"
    }
   },
   "source": [
    "### `re`\n",
    "\n",
    "Das Paket [re](https://docs.python.org/3/library/re.html) für reguläre Ausdrücke ist in der Standardbibliothek von Python enthalten.\n"
   ]
  },
  {
   "cell_type": "code",
   "execution_count": 5,
   "metadata": {
    "slideshow": {
     "slide_type": "subslide"
    }
   },
   "outputs": [],
   "source": [
    "import re\n",
    "\n",
    "pattern = 'a'\n",
    "string = 'Spam, Eggs and Bacon'"
   ]
  },
  {
   "cell_type": "code",
   "execution_count": 6,
   "metadata": {
    "slideshow": {
     "slide_type": "subslide"
    }
   },
   "outputs": [
    {
     "name": "stdout",
     "output_type": "stream",
     "text": [
      "None\n"
     ]
    }
   ],
   "source": [
    "print(re.match(pattern, string)) # Sucht am Anfang des Strings"
   ]
  },
  {
   "cell_type": "code",
   "execution_count": 7,
   "metadata": {
    "slideshow": {
     "slide_type": "subslide"
    }
   },
   "outputs": [
    {
     "name": "stdout",
     "output_type": "stream",
     "text": [
      "<re.Match object; span=(2, 3), match='a'>\n"
     ]
    }
   ],
   "source": [
    "print(re.search(pattern, string)) # Sucht erstes Auftreten im String"
   ]
  },
  {
   "cell_type": "markdown",
   "metadata": {
    "slideshow": {
     "slide_type": "subslide"
    }
   },
   "source": [
    "Als Objekt:"
   ]
  },
  {
   "cell_type": "code",
   "execution_count": 8,
   "metadata": {
    "slideshow": {
     "slide_type": "fragment"
    }
   },
   "outputs": [
    {
     "name": "stdout",
     "output_type": "stream",
     "text": [
      "<re.Match object; span=(2, 3), match='a'>\n"
     ]
    }
   ],
   "source": [
    "pattern = re.compile('a')\n",
    "\n",
    "print(pattern.search(string)) # nur suchen"
   ]
  },
  {
   "cell_type": "code",
   "execution_count": 9,
   "metadata": {
    "slideshow": {
     "slide_type": "fragment"
    }
   },
   "outputs": [
    {
     "name": "stdout",
     "output_type": "stream",
     "text": [
      "a\n"
     ]
    }
   ],
   "source": [
    "print(pattern.search(string).group()) # suchen und ausgeben ueber group"
   ]
  },
  {
   "cell_type": "markdown",
   "metadata": {
    "slideshow": {
     "slide_type": "subslide"
    }
   },
   "source": [
    "### `re.findall`\n",
    "Findet alle Vorkommnisse in einem String und gibt diese als *Liste-von-Strings* zurück."
   ]
  },
  {
   "cell_type": "code",
   "execution_count": 10,
   "metadata": {
    "slideshow": {
     "slide_type": "fragment"
    }
   },
   "outputs": [
    {
     "name": "stdout",
     "output_type": "stream",
     "text": [
      "Spam, Eggs and Bacon\n"
     ]
    }
   ],
   "source": [
    "print(string)"
   ]
  },
  {
   "cell_type": "code",
   "execution_count": 11,
   "metadata": {
    "scrolled": true,
    "slideshow": {
     "slide_type": "fragment"
    }
   },
   "outputs": [
    {
     "name": "stdout",
     "output_type": "stream",
     "text": [
      "['a', 'a', 'a']\n"
     ]
    }
   ],
   "source": [
    "print(re.findall('a', string))"
   ]
  },
  {
   "cell_type": "code",
   "execution_count": 12,
   "metadata": {
    "slideshow": {
     "slide_type": "fragment"
    }
   },
   "outputs": [
    {
     "name": "stdout",
     "output_type": "stream",
     "text": [
      "[' ', ' ', ' ']\n"
     ]
    }
   ],
   "source": [
    "print(re.findall(' ', string))"
   ]
  },
  {
   "cell_type": "markdown",
   "metadata": {
    "slideshow": {
     "slide_type": "subslide"
    }
   },
   "source": [
    "### Sonderzeichen:\n",
    "\n",
    "1. `.` (dot) ist der allgemeinste, reguläre Ausdruck. Er spezifiziert ein beliebiges Zeichen im String.\n",
    "2. `^` (carret) bezeichnet den Anfang eines Strings.\n",
    "3. `$` (dollar) bezeichnet die Position vor der newline (`\\n`) oder das Ende des Strings im `MULTILINE` Modus."
   ]
  },
  {
   "cell_type": "code",
   "execution_count": 13,
   "metadata": {
    "slideshow": {
     "slide_type": "subslide"
    }
   },
   "outputs": [
    {
     "name": "stdout",
     "output_type": "stream",
     "text": [
      "Spam, Eggs and Bacon\n"
     ]
    }
   ],
   "source": [
    "print(string)"
   ]
  },
  {
   "cell_type": "code",
   "execution_count": 14,
   "metadata": {
    "slideshow": {
     "slide_type": "subslide"
    }
   },
   "outputs": [
    {
     "name": "stdout",
     "output_type": "stream",
     "text": [
      "pam\n"
     ]
    }
   ],
   "source": [
    "print(re.search('.a.', string).group()) # erster treffer"
   ]
  },
  {
   "cell_type": "code",
   "execution_count": 15,
   "metadata": {
    "scrolled": true,
    "slideshow": {
     "slide_type": "subslide"
    }
   },
   "outputs": [
    {
     "name": "stdout",
     "output_type": "stream",
     "text": [
      "['pam', ' an', 'Bac']\n"
     ]
    }
   ],
   "source": [
    "print(re.findall('.a.', string)) # alle treffer"
   ]
  },
  {
   "cell_type": "markdown",
   "metadata": {
    "slideshow": {
     "slide_type": "subslide"
    }
   },
   "source": [
    "### Verkettung\n",
    "\n",
    "Spezifiziert Strings in bestimmter Reihenfolge. Die Reihenfolge kann negiert werden in dem man eine Menge angibt: `[]`."
   ]
  },
  {
   "cell_type": "code",
   "execution_count": 16,
   "metadata": {
    "slideshow": {
     "slide_type": "fragment"
    }
   },
   "outputs": [
    {
     "name": "stdout",
     "output_type": "stream",
     "text": [
      "AND\n"
     ]
    }
   ],
   "source": [
    "print(re.search('AND', 'AND DNA XYZ').group())"
   ]
  },
  {
   "cell_type": "code",
   "execution_count": 17,
   "metadata": {
    "slideshow": {
     "slide_type": "fragment"
    }
   },
   "outputs": [
    {
     "name": "stdout",
     "output_type": "stream",
     "text": [
      "['A', 'N', 'D', 'D', 'N', 'A']\n"
     ]
    }
   ],
   "source": [
    "print(re.findall('[AND]', 'AND DNA XYZ'))"
   ]
  },
  {
   "cell_type": "code",
   "execution_count": 18,
   "metadata": {
    "slideshow": {
     "slide_type": "fragment"
    }
   },
   "outputs": [
    {
     "name": "stdout",
     "output_type": "stream",
     "text": [
      "Spam, Eggs and Bacon\n",
      "['a', 'm', 'a', 'a']\n"
     ]
    }
   ],
   "source": [
    "print(string)\n",
    "print(re.findall('[amb]', string))"
   ]
  },
  {
   "cell_type": "markdown",
   "metadata": {
    "slideshow": {
     "slide_type": "subslide"
    }
   },
   "source": [
    "### Alternative\n",
    "\n",
    "Findet mehrere Alternativen regulärer Ausdrücke. Wird durch `|`-Operator angegeben."
   ]
  },
  {
   "cell_type": "code",
   "execution_count": 19,
   "metadata": {
    "scrolled": true,
    "slideshow": {
     "slide_type": "fragment"
    }
   },
   "outputs": [
    {
     "name": "stdout",
     "output_type": "stream",
     "text": [
      "['AND', 'DNA']\n"
     ]
    }
   ],
   "source": [
    "print(re.findall('AND|DNA|RNA', 'AND DNA XYZ')) "
   ]
  },
  {
   "cell_type": "markdown",
   "metadata": {
    "slideshow": {
     "slide_type": "subslide"
    }
   },
   "source": [
    "### Weitere Sonderzeichen\n",
    "Folgende Zeichen haben besondere Bedeutungen in regulären Ausdrücken:\n",
    "\n",
    "Zeichen | Bedeutung\n",
    "-|-\n",
    "`.`| Beliebiges Zeichen. Mit `DOTALL` auch die Newline (`\\n`)\n",
    "`^`| Anfang eines Strings. Wenn `MULTILINE`, dann auch nach jedem `\\n`\n",
    "`$`| Ende des Strings. Wenn `MULTILINE`, dann auch vor jedem `\\n`\n",
    "`\\`| Escape für Sonderzeichen oder bezeichnet eine Menge\n",
    "`[]`| Definiert eine Menge von Zeichen\n",
    "`()`| Festlegung von Gruppen  "
   ]
  },
  {
   "cell_type": "markdown",
   "metadata": {
    "slideshow": {
     "slide_type": "subslide"
    }
   },
   "source": [
    "### Wiederholungen\n",
    "Spezifiziert Anzahl der Wiederholungen des vorangegangenen regulären Ausdrucks. Folgende Wiederholungen sind möglich:\n",
    "\n",
    "Syntax | Bedeutung\n",
    "-|-\n",
    "`*` | 0 oder mehr Wiederholungen\n",
    "`+` | 1 oder mehr Wiederholungen\n",
    "`{m}` | Genau `m` Wiederholungen\n",
    "`{m,n}` | Von `m` bis einschließlich `n`\n"
   ]
  },
  {
   "cell_type": "code",
   "execution_count": 20,
   "metadata": {
    "scrolled": true,
    "slideshow": {
     "slide_type": "subslide"
    }
   },
   "outputs": [],
   "source": [
    "peter = '''The screen is filled by the face of PETER PARKER, a 17 year \n",
    "old boy. High school must not be any fun for Petttter, he's one \n",
    "hundred percent nerd- skinny, zitty, glasses. His face is just \n",
    "frozen there, a cringing expression on it, which strikes us odd \n",
    "until we realize the image is freeze framed.'''\n"
   ]
  },
  {
   "cell_type": "code",
   "execution_count": 21,
   "metadata": {
    "slideshow": {
     "slide_type": "subslide"
    }
   },
   "outputs": [
    {
     "data": {
      "text/plain": [
       "\"The screen is filled by the face of PETER PARKER, a 17 year \\nold boy. High school must not be any fun for Petttter, he's one \\nhundred percent nerd- skinny, zitty, glasses. His face is just \\nfrozen there, a cringing expression on it, which strikes us odd \\nuntil we realize the image is freeze framed.\""
      ]
     },
     "execution_count": 21,
     "metadata": {},
     "output_type": "execute_result"
    }
   ],
   "source": [
    "peter"
   ]
  },
  {
   "cell_type": "markdown",
   "metadata": {
    "slideshow": {
     "slide_type": "subslide"
    }
   },
   "source": [
    "\n",
    "Die Wiederholungen sind standardmäßig *greedy*, d.h. es wird soviel vom String verbraucht, wie möglich. Dieses Verhalten kann abgeschaltet werden, indem ein `?` nach der Wiederholung gesetzt wird."
   ]
  },
  {
   "cell_type": "code",
   "execution_count": 22,
   "metadata": {
    "slideshow": {
     "slide_type": "subslide"
    }
   },
   "outputs": [
    {
     "name": "stdout",
     "output_type": "stream",
     "text": [
      "['screen', \"school must not be any fun for Petttter, he's on\", 'skinn', 'ssion on']\n"
     ]
    }
   ],
   "source": [
    "print(re.findall('s.*n', peter)) # greedy"
   ]
  },
  {
   "cell_type": "code",
   "execution_count": 23,
   "metadata": {
    "slideshow": {
     "slide_type": "subslide"
    }
   },
   "outputs": [
    {
     "name": "stdout",
     "output_type": "stream",
     "text": [
      "['screen', 'school must n', 's on', 'skin', 'ssion']\n"
     ]
    }
   ],
   "source": [
    "print(re.findall('s.*?n', peter)) # non-greedy"
   ]
  },
  {
   "cell_type": "markdown",
   "metadata": {
    "slideshow": {
     "slide_type": "subslide"
    }
   },
   "source": [
    "Zusatzparameter `re.DOTALL` um über `.` auch `\\n` zu erfassen:"
   ]
  },
  {
   "cell_type": "code",
   "execution_count": 24,
   "metadata": {
    "slideshow": {
     "slide_type": "subslide"
    }
   },
   "outputs": [
    {
     "name": "stdout",
     "output_type": "stream",
     "text": [
      "['screen', 's filled by the face of PETER PARKER, a 17 year \\nold boy. High school must n', 's on', 'skin', 'sses. His face is just \\nfrozen', 'ssion', 'strikes us odd \\nun']\n"
     ]
    }
   ],
   "source": [
    "print(re.findall('s.*?n', peter, re.DOTALL))"
   ]
  },
  {
   "cell_type": "code",
   "execution_count": 25,
   "metadata": {
    "slideshow": {
     "slide_type": "subslide"
    }
   },
   "outputs": [
    {
     "data": {
      "text/plain": [
       "['.', '.', '.']"
      ]
     },
     "execution_count": 25,
     "metadata": {},
     "output_type": "execute_result"
    }
   ],
   "source": [
    "re.findall('\\.', peter) # suche nach punkt, escapen des sonderzeichens \".\""
   ]
  },
  {
   "cell_type": "markdown",
   "metadata": {
    "slideshow": {
     "slide_type": "subslide"
    }
   },
   "source": [
    "Grundsätzlich kann die Regex Kombination, `.*?`, verwendet werden, um mehrere Platzhalter (`.`) beliebig häufig (`*`) vorkommen zu lassen, solange bis das nächste Pattern zum ersten mal gefunden wird (`?`)."
   ]
  },
  {
   "cell_type": "code",
   "execution_count": 26,
   "metadata": {
    "slideshow": {
     "slide_type": "fragment"
    }
   },
   "outputs": [
    {
     "name": "stdout",
     "output_type": "stream",
     "text": [
      "['AaZyyyyyyPeeAAeeeZ']\n"
     ]
    }
   ],
   "source": [
    "string = 'eeeAaZyyyyyyPeeAAeeeZeeeeyy'\n",
    "print(re.findall('A.*Z', string)) # greedy"
   ]
  },
  {
   "cell_type": "code",
   "execution_count": 27,
   "metadata": {
    "slideshow": {
     "slide_type": "fragment"
    }
   },
   "outputs": [
    {
     "name": "stdout",
     "output_type": "stream",
     "text": [
      "['AaZ', 'AAeeeZ']\n"
     ]
    }
   ],
   "source": [
    "print(re.findall('A.*?Z', string)) # non-greedy"
   ]
  },
  {
   "cell_type": "markdown",
   "metadata": {
    "slideshow": {
     "slide_type": "subslide"
    }
   },
   "source": [
    "### Spezifizierung von Mengen\n",
    "\n",
    "Syntax | Äquivalent | Bedeutung\n",
    "-|-|-\n",
    "`\\d` | `[0-9]` | Ganze Zahlen\n",
    "`\\D` | `[^0-9]` | Alles was keine Zahl ist\n",
    "`\\s` | `[ \\t\\n\\r\\f\\v]` | Alles was whitespace ist \n",
    "`\\S` | `[^ \\t\\n\\r\\f\\v] ` | Alles was nicht whitespace ist\n",
    "`\\w` | `[a-zA-Z0-9_]` | Alphanumerische Zeichen und Unterstrich\n",
    "`\\W` | `[^a-zA-Z0-9_]` | Kein alphanumerische Zeichen oder Unterstrich"
   ]
  },
  {
   "cell_type": "code",
   "execution_count": 28,
   "metadata": {
    "slideshow": {
     "slide_type": "subslide"
    }
   },
   "outputs": [
    {
     "name": "stdout",
     "output_type": "stream",
     "text": [
      "The screen is filled by the face of PETER PARKER, a 17 year \n",
      "old boy. High school must not be any fun for Petttter, he's one \n",
      "hundred percent nerd- skinny, zitty, glasses. His face is just \n",
      "frozen there, a cringing expression on it, which strikes us odd \n",
      "until we realize the image is freeze framed.\n"
     ]
    }
   ],
   "source": [
    "print(peter)"
   ]
  },
  {
   "cell_type": "code",
   "execution_count": 29,
   "metadata": {
    "slideshow": {
     "slide_type": "subslide"
    }
   },
   "outputs": [
    {
     "data": {
      "text/plain": [
       "\"The_screen_is_filled_by_the_face_of_PETER_PARKER,_a_17_year__old_boy._High_school_must_not_be_any_fun_for_Petttter,_he's_one__hundred_percent_nerd-_skinny,_zitty,_glasses._His_face_is_just__frozen_there,_a_cringing_expression_on_it,_which_strikes_us_odd__until_we_realize_the_image_is_freeze_framed.\""
      ]
     },
     "execution_count": 29,
     "metadata": {},
     "output_type": "execute_result"
    }
   ],
   "source": [
    "re.sub('\\s', '_', peter) # ersetzen"
   ]
  },
  {
   "cell_type": "code",
   "execution_count": 30,
   "metadata": {
    "slideshow": {
     "slide_type": "subslide"
    }
   },
   "outputs": [
    {
     "data": {
      "text/plain": [
       "['1', '7']"
      ]
     },
     "execution_count": 30,
     "metadata": {},
     "output_type": "execute_result"
    }
   ],
   "source": [
    "re.findall('\\d', peter) # alle zahlen"
   ]
  },
  {
   "cell_type": "code",
   "execution_count": 31,
   "metadata": {
    "slideshow": {
     "slide_type": "fragment"
    }
   },
   "outputs": [
    {
     "data": {
      "text/plain": [
       "['17']"
      ]
     },
     "execution_count": 31,
     "metadata": {},
     "output_type": "execute_result"
    }
   ],
   "source": [
    "re.findall('\\d{2}', peter) # zwei aufeinanderfolgende zahlen"
   ]
  },
  {
   "cell_type": "markdown",
   "metadata": {
    "slideshow": {
     "slide_type": "subslide"
    }
   },
   "source": [
    "### Look arounds\n",
    "\n",
    "Look arounds ermöglichen es Mengen vor und nach Strings zu prüfen ohne diese zu extrahieren. Grundlegende Syntax: `(?`...`)`\n",
    "\n",
    "Syntax | Bedeutung\n",
    "-|-\n",
    "`(?=`...`)` | *positive lookahead*\n",
    "`(?!`...`)` | *negative lookahead*\n",
    "`(?<=`...`)` | *positive lookbehind*\n",
    "`(?<!`...`)` | *negative lookbehind*"
   ]
  },
  {
   "cell_type": "code",
   "execution_count": 33,
   "metadata": {
    "slideshow": {
     "slide_type": "subslide"
    }
   },
   "outputs": [
    {
     "data": {
      "text/plain": [
       "[' & spam']"
      ]
     },
     "execution_count": 33,
     "metadata": {},
     "output_type": "execute_result"
    }
   ],
   "source": [
    "string = 'bacon, eggs & spam'\n",
    "re.findall('(?<=eggs).*', string) # positive lookbehind: alle zeichen nach \"eggs\""
   ]
  },
  {
   "cell_type": "code",
   "execution_count": 34,
   "metadata": {
    "slideshow": {
     "slide_type": "subslide"
    }
   },
   "outputs": [
    {
     "data": {
      "text/plain": [
       "['1', '3']"
      ]
     },
     "execution_count": 34,
     "metadata": {},
     "output_type": "execute_result"
    }
   ],
   "source": [
    "string = \"1pt 7px 3em 4px\"\n",
    "re.findall(\"\\d+(?!px)\", string) # negative look ahead: zahlen die nicht vor \"px\" stehen"
   ]
  },
  {
   "cell_type": "markdown",
   "metadata": {
    "slideshow": {
     "slide_type": "subslide"
    }
   },
   "source": [
    "Weitere Tutorials und  Infos zu regulären Ausdrücken:\n",
    "\n",
    "[DiveIntoPython Tutorial](https://diveintopython3.net/regular-expressions.html)\n",
    "\n",
    "[PyDocs RegEx HowTo](https://docs.python.org/3/howto/regex.html)\n"
   ]
  },
  {
   "cell_type": "markdown",
   "metadata": {
    "slideshow": {
     "slide_type": "subslide"
    }
   },
   "source": [
    "### Übungsaufgabe 1\n",
    "\n",
    "Schreibt einen regulären Ausdruck, über den alle Wörter aus einem String in eine Liste überführt werden."
   ]
  },
  {
   "cell_type": "code",
   "execution_count": 32,
   "metadata": {
    "slideshow": {
     "slide_type": "fragment"
    }
   },
   "outputs": [],
   "source": [
    "beispiel_string = '''The screen is filled by the face of PETER PARKER, a 17 year \n",
    "old boy. High school must not be any fun for Petttter, he's one \n",
    "hundred percent nerd- skinny, zitty, glasses. His face is just \n",
    "frozen there, a cringing expression on it, which strikes us odd \n",
    "until we realize the image is freeze framed.'''\n",
    "\n",
    "# Code Übungsaufgabe 1\n"
   ]
  },
  {
   "cell_type": "markdown",
   "metadata": {
    "slideshow": {
     "slide_type": "subslide"
    }
   },
   "source": [
    "### Übungsaufgabe 2\n",
    "\n",
    "Nutzt reguläre Ausdrücke um eine Liste von URL's nach Bildern (.jpg, .jpeg, .png) zu filtern."
   ]
  },
  {
   "cell_type": "code",
   "execution_count": null,
   "metadata": {
    "slideshow": {
     "slide_type": "subslide"
    }
   },
   "outputs": [],
   "source": [
    "beispiel_links = [\n",
    "'https://www.uni-bamberg.de/ma-politik/schwerpunkte/computational-social-sciences/',\n",
    "'https://www.uni-bamberg.de/fileadmin/_processed_/f/c/csm_Schmid_Finzel_2c34cb23de.jpg',\n",
    "'https://www.uni-bamberg.de/fileadmin/uni/verwaltung/presse/042_MARKETING/0421_Corporate_Design/Logos-extern/weltoffene-hochschule/Logo-EN-170.png',\n",
    "'https://www.uni-bamberg.de/fileadmin/_processed_/e/d/csm_2020-04-30_Homeschooling_web_4cf4ce1ad8.jpeg',   \n",
    "'https://www.uni-bamberg.de/soziologie/lehrstuehle-und-professuren/']\n",
    "\n",
    "# Code Übungsaufgabe 2\n"
   ]
  },
  {
   "cell_type": "markdown",
   "metadata": {
    "slideshow": {
     "slide_type": "subslide"
    }
   },
   "source": [
    "<br>\n",
    "<br>\n",
    "\n",
    "\n",
    "___\n",
    "\n",
    "                \n",
    "**Kontakt: Carsten Schwemmer** (Webseite: www.carstenschwemmer.com,  Email: c.schwem2er@gmail.com)"
   ]
  }
 ],
 "metadata": {
  "kernelspec": {
   "display_name": "Python 3",
   "language": "python",
   "name": "python3"
  },
  "language_info": {
   "codemirror_mode": {
    "name": "ipython",
    "version": 3
   },
   "file_extension": ".py",
   "mimetype": "text/x-python",
   "name": "python",
   "nbconvert_exporter": "python",
   "pygments_lexer": "ipython3",
   "version": "3.8.8"
  }
 },
 "nbformat": 4,
 "nbformat_minor": 2
}
