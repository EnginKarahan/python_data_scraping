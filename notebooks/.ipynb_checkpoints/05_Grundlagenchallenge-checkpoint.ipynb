{
 "cells": [
  {
   "cell_type": "markdown",
   "metadata": {
    "slideshow": {
     "slide_type": "slide"
    }
   },
   "source": [
    "## Python Grundlagen - Challenge"
   ]
  },
  {
   "cell_type": "markdown",
   "metadata": {
    "slideshow": {
     "slide_type": "fragment"
    }
   },
   "source": [
    "\n",
    "\n",
    "- Die Datei `guardian_articles_corona.json` beinhaltet utf-8 kodierte Artikel zum Suchbegriff *coronavirus* für das Jahr 2020 aus der [The Guardian API](http://open-platform.theguardian.com/)  (abgerufen am 13.05.2020)\n",
    "- Ziel ist es, die Datenstruktur so zu vereinfachen, dass im Anschluss Analysen durchgeführt werden können \n",
    "- Orientiert euch bei Problemen zunächst an den bisherigen Notebooks aus dem Kurs \n",
    "- Die nachfolgende Challenge sind umfangreicher als die bisherigen Übungsaufgaben. Es ist in Ordnung wenn die Lösung mehr Zeit in Anspruch nimmt"
   ]
  },
  {
   "cell_type": "markdown",
   "metadata": {
    "slideshow": {
     "slide_type": "skip"
    }
   },
   "source": [
    "### 1.\n",
    "\n",
    "Ladet die `JSON` Datei herunter, lest diese in Python ein und macht euch mit der Datenstruktur vertraut. Wie viele Artikel enthält die Datei? \n",
    "\n",
    "10801 Artikel\n",
    "\n",
    "### 2. \n",
    "\n",
    "Schreibt eine Funktion um die Liste mit Artikeln zu verarbeiten. Vereinfacht die Datenstruktur dabei entsprechend dem folgenden Input / Output Beispiel:\n",
    "\n",
    "**Input:**\n",
    "\n",
    "```\n",
    "{\n",
    "    'id': 'world/2020/may/08/coronavirus-the-week-explained',\n",
    "    'type\": 'article',\n",
    "    'sectionId': \"world',\n",
    "    'sectionName': 'World news',\n",
    "    'webPublicationDate': '2020-05-08T10:54:45Z',\n",
    "    'webTitle': 'Coronavirus: the week explained',\n",
    "    'webUrl': 'https://www.theguardian.com/world/2020/may/08/coronavirus-the-week-explained',\n",
    "    'apiUrl': 'https://content.guardianapis.com/world/2020/may/08/coronavirus-the-week-explained',\n",
    "    'fields': {\n",
    "      'bodyText': 'Welcome to our weekly roundup of developments in the coronavirus pandemic, which continues ...',\n",
    "      'charCount': '6139'},     \n",
    "   'tags': \n",
    "   [{'id': 'world/coronavirus-outbreak',\n",
    "   'type': 'keyword',\n",
    "   'sectionId': 'world',\n",
    "   'sectionName': 'World news',\n",
    "   'webTitle': 'Coronavirus outbreak',\n",
    "   'webUrl': 'https://www.theguardian.com/world/coronavirus-outbreak',\n",
    "   'apiUrl': 'https://content.guardianapis.com/world/coronavirus-outbreak',\n",
    "   'references': []},\n",
    "  {'id': 'science/science',\n",
    "   'type': 'keyword',\n",
    "   'sectionId': 'science',\n",
    "   'sectionName': 'Science',\n",
    "   'webTitle': 'Science',\n",
    "   'webUrl': 'https://www.theguardian.com/science/science',\n",
    "   'apiUrl': 'https://content.guardianapis.com/science/science',\n",
    "   'references': []}]\n",
    "   ...\n",
    "\n",
    "```\n",
    "\n",
    "**Output:**\n",
    "\n",
    "```\n",
    "{'chars': 6139,\n",
    " 'id': 'world/2020/may/08/coronavirus-the-week-explained',\n",
    " 'section': 'World news',\n",
    " 'tags': 'world/coronavirus-outbreak, science/science',\n",
    " 'text': 'Welcome to our weekly roundup of developments in the coronavirus pandemic, which continues ...',\n",
    " 'title': 'Coronavirus: the week explained',\n",
    " 'url': 'https://www.theguardian.com/world/2020/may/08/coronavirus-the-week-explained',\n",
    " 'month': 5}\n",
    "```\n",
    "\n",
    "### 3.\n",
    "Die Variable `chars` in euren verarbeiteten Artikeln beinhaltet die jeweilige Anzahl der Zeichen des Texts. Überprüft exemplarisch anhand eines Artikels, ob die Angabe korrekt ist.\n",
    "      \n",
    "### 4.\n",
    "Findet heraus in welchem Monat die meisten Artikel veröffentlicht wurden.\n",
    "\n",
    "April\n",
    "\n",
    "### 5.\n",
    "Findet die drei meistgenutzten Tags aus allen Artikeln.\n",
    "\n",
    "### 6.\n",
    "Gebt die Titel der fünf längsten Artikel (= Anzahl Zeichen) aus.\n",
    "\n",
    "### 7.\n",
    "Speichert die verarbeiteten Artikel in einer `JSON` Datei ab. Achtet darauf, die Textkodierung auf `utf-8` zu setzen."
   ]
  },
  {
   "cell_type": "code",
   "execution_count": 56,
   "metadata": {
    "slideshow": {
     "slide_type": "subslide"
    }
   },
   "outputs": [
    {
     "name": "stdout",
     "output_type": "stream",
     "text": [
      "Zahl der Artikel pro Monat [('04', 4307), ('03', 4076), ('05', 1479), ('02', 744), ('01', 195)]\n",
      "Monat mit mesten Artikeln:  [('04', 4307)]\n",
      "3 häufigsten tags:  [('world/coronavirus-outbreak', 8238), ('uk/uk', 3742), ('world/world', 3289)]\n",
      "\n",
      "Die längsten 5 Beiträge: \n",
      "205535 Canada closes borders to foreigners – as it happened\n",
      "164451 Covid-19 outbreak like a nuclear explosion, says archbishop of Canterbury – as it happened\n",
      "164451 Covid-19 outbreak like a nuclear explosion, says archbishop of Canterbury – as it happened\n",
      "162578 Austria says easing lockdown has not led to spike in infections – as it happened\n",
      "160497 US announces economic measures after markets plunge on virus fears – as it happened\n"
     ]
    }
   ],
   "source": [
    "# Code für Grundlagenchallenge\n",
    "import json\n",
    "from collections import Counter\n",
    "from pprint import pprint\n",
    "\n",
    "with open('guardian_articles_corona.json', 'r', encoding='utf=8') as f:\n",
    "    guardian_raw = json.load(f)\n",
    "\n",
    "def json_parser(file_to_pars):\n",
    "    parsed = []\n",
    "    for i in range(0, len(file_to_pars)):\n",
    "        for j in range(0, len(file_to_pars[i])):\n",
    "            tmp = {}\n",
    "            tmp['id'] = file_to_pars[i][\"id\"]\n",
    "            tmp['chars'] = file_to_pars[i][\"fields\"][\"charCount\"]\n",
    "            tmp['section'] = file_to_pars[i][\"sectionName\"]\n",
    "            tmp2 = []\n",
    "            for k in range(0, len(file_to_pars[i]['tags'])):\n",
    "                tmp2.append(file_to_pars[i]['tags'][k]['id'])\n",
    "            tmp2 = ', '.join(tmp2)\n",
    "            tmp['tags'] = tmp2\n",
    "            tmp['text'] = file_to_pars[i][\"fields\"][\"bodyText\"]\n",
    "            tmp['title'] = file_to_pars[i][\"webTitle\"]\n",
    "            tmp['url'] = file_to_pars[i][\"webUrl\"]\n",
    "            date = file_to_pars[i]['webPublicationDate']\n",
    "            tmp['month'] = date[5:7]\n",
    "            # print(tmp)\n",
    "        parsed.append(tmp)\n",
    "    return parsed\n",
    "\n",
    "def month_article():\n",
    "    counter = []\n",
    "    for i in range(len(parsed_guardian)):\n",
    "        counter.append(parsed_guardian[i]['month'])\n",
    "    counter_month = Counter(counter)\n",
    "    print('Zahl der Artikel pro Monat', counter_month.most_common())\n",
    "    print('Monat mit mesten Artikeln: ', counter_month.most_common(1))\n",
    "\n",
    "def most_tags():\n",
    "    counter = []\n",
    "    for i in range(len(parsed_guardian)):\n",
    "        tmp_tag = parsed_guardian[i]['tags'].split(\", \")\n",
    "        counter = counter + tmp_tag\n",
    "    counter_tags = Counter(counter)\n",
    "    print('3 häufigsten tags: ', counter_tags.most_common(3))\n",
    "\n",
    "def long_article():\n",
    "    counter = []\n",
    "    counter_chars = []\n",
    "    for i in range(len(parsed_guardian)):\n",
    "        counter.append(int(parsed_guardian[i]['chars']))\n",
    "        #counter = counter + parsed_guardian[i]['chars']\n",
    "    #counter_chars = counter.sort(reverse=True)\n",
    "    #counter_chars = list(dict.fromkeys(counter))\n",
    "    counter = list(dict.fromkeys(counter))\n",
    "    counter_chars = counter.sort(reverse=True)\n",
    "    #print('Counter Chars', counter)\n",
    "    #print('Counter', counter)\n",
    "    print()\n",
    "    print('Die längsten 5 Beiträge: ')\n",
    "    for j in range(0, 4):\n",
    "        for k in range(len(parsed_guardian)):\n",
    "            if str(counter[j]) == parsed_guardian[k]['chars']:\n",
    "                print(parsed_guardian[k]['chars'], parsed_guardian[k]['title'])\n",
    "            else:\n",
    "                continue\n",
    "\n",
    "\n",
    "\n",
    "parsed_guardian = json_parser(guardian_raw)\n",
    "\n",
    "month_article()\n",
    "\n",
    "most_tags()\n",
    "\n",
    "long_article()\n",
    "\n",
    "with open('uardian_articles_corona-parsed.json', 'w', encoding = 'utf-8') as f:\n",
    "    json.dump(parsed_guardian,\n",
    "             f,\n",
    "             ensure_ascii = False,\n",
    "             indent = 2)"
   ]
  },
  {
   "cell_type": "markdown",
   "metadata": {
    "slideshow": {
     "slide_type": "subslide"
    }
   },
   "source": [
    "<br>\n",
    "<br>\n",
    "\n",
    "\n",
    "___\n",
    "\n",
    "                \n",
    "**Kontakt: Carsten Schwemmer** (Webseite: www.carstenschwemmer.com,  Email: c.schwem2er@gmail.com)"
   ]
  }
 ],
 "metadata": {
  "kernelspec": {
   "display_name": "Python 3",
   "language": "python",
   "name": "python3"
  },
  "language_info": {
   "codemirror_mode": {
    "name": "ipython",
    "version": 3
   },
   "file_extension": ".py",
   "mimetype": "text/x-python",
   "name": "python",
   "nbconvert_exporter": "python",
   "pygments_lexer": "ipython3",
   "version": "3.8.8"
  }
 },
 "nbformat": 4,
 "nbformat_minor": 2
}
