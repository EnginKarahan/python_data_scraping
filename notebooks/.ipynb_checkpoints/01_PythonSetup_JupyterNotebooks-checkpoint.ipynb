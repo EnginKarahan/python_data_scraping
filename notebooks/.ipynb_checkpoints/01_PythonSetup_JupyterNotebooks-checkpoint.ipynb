{
 "cells": [
  {
   "cell_type": "markdown",
   "metadata": {},
   "source": [
    "# 01 Python - die ersten Schritte"
   ]
  },
  {
   "cell_type": "markdown",
   "metadata": {},
   "source": [
    "Das nachfolgende Tutorial ist für Personen geschrieben, die mit Python noch keine Erfahrungen gemacht haben und einen unkomplizierten Einstieg in die Installation und Anwendung der freien Programmiersprache suchen. Dabei stellt die Kombination der hier verwendeten Hilfsmittel *Anaconda* und *Jupyter/iPython* nur eine von vielen Möglichkeiten zum Umgang mit Python dar. Nach der Installation von Python folgen ein paar Anwendungsbeispiele, die zeigen sollen, was mit ein paar Zeilen Code gemacht werden kann. Am Ende findet sich noch eine kleine Sammlung an weiterführenden Links zum Erlernen der Sprache.\n",
    "\n",
    "Vor der ersten Nutzung muss Python zunächst eingerichtet werden. Python ist zwar auf vielen Betriebssystemen schon vorinstalliert, meistens werden aber neben dem Basisprogramm noch einige zusätzliche Pakete benötigt.\n",
    "Die Installation jedes einzelnen Pakets ist vor allem für Windows-User am Anfang umständlich und zeitaufwendig, weshalb sich die Nutzung einer Sammeldistribution empfiehlt. Ein sehr gutes Gesamtpaket stellt  <a href=\"https://www.anaconda.com/products/individual#Downloads\" target=\"_blank\">Anaconda</a> dar. Hierbei sollte die aktuellste 64-Bit Version von Python für das entsprechende Betriebssystem heruntergeladen und installiert werden."
   ]
  },
  {
   "cell_type": "markdown",
   "metadata": {},
   "source": [
    "## Anaconda"
   ]
  },
  {
   "cell_type": "markdown",
   "metadata": {},
   "source": [
    "Anaconda beinhaltet die wichtigsten Python-Pakete in einem Installer für alle gängigen Betriebssysteme. Nach der Installation kann Python über die Eingabe des Kommandos *python* in der <a href=\"http://de.wikipedia.org/wiki/Betriebssystem-Shell\" target=\"_blank\">System-Shell</a> (Mac OS und Linux) beziehungsweise *Anaconda Prompt* (Windows) gestartet werden."
   ]
  },
  {
   "cell_type": "markdown",
   "metadata": {},
   "source": [
    "![Alt Text](https://docs.anaconda.com/_images/win-anaconda-prompt2.png)"
   ]
  },
  {
   "cell_type": "markdown",
   "metadata": {},
   "source": [
    "#### Nach der Installation"
   ]
  },
  {
   "cell_type": "markdown",
   "metadata": {},
   "source": [
    "Für den Fall, dass ein Paket benötigt wird, welches nicht in der Anaconda-Distribution enthalten ist, kann dieses  über den Paketmanager <a href= \"https://pypi.python.org/pypi/pip\" target=\"_blank\">pip</a> nachinstalliert werden. Hierfür muss lediglich die Bezeichnung bekannt sein unter welcher das Paket registriert wurde.\n",
    "Der folgende Befehl installiert beispielsweise das Visualisierungspaket <a href =\"https://seaborn.pydata.org/\" target=\"_blank\">seaborn</a>:"
   ]
  },
  {
   "cell_type": "markdown",
   "metadata": {},
   "source": [
    "    pip install seaborn"
   ]
  },
  {
   "cell_type": "markdown",
   "metadata": {},
   "source": [
    "Obwohl Python ohne Probleme auch über die Shell gesteuert werden könnte, bieten sich sowohl für das Lernen von Python als auch für die fortgeschrittene Anwendung spezielle Entwicklungsumgebungen (IDE) an. Eine solche <a href =\"http://de.wikipedia.org/wiki/Integrierte_Entwicklungsumgebung\" target=\"_blank\">IDE</a> ist auch in der Standardinstallation von Python enthalten: *Python-IDLE*. In der Anaconda Distribution ist zusätzlich die IDE <a href =\"https://www.spyder-ide.org/\">Spyder</a> enthalten. Die Entwicklungsumgebung, die einen der Hauptfaktoren für die zunehmende <a href =\"https://www.wired.com/story/python-language-more-popular-than-ever/\" target=\"_blank\">Popularität</a> von Python darstellt, ist das auf *iPython* basierende <a href =\"https://jupyter.org/\" target=\"_blank\">Jupyter-Notebook</a>. "
   ]
  },
  {
   "cell_type": "markdown",
   "metadata": {},
   "source": [
    "## Jupyter Notebook"
   ]
  },
  {
   "cell_type": "markdown",
   "metadata": {},
   "source": [
    "Das Jupyter (iPython) Notebook ist eine browserbasierte, interaktive Programmierumgebung für Python. Innerhalb des Notebooks können in Echtzeit Code ausgeführt, Text geschrieben, Plots dargestellt werden und vieles mehr. Die Notebooks können anschließend gespeichert und in verschiedene Formate (<a href =\"http://nbconvert.readthedocs.org/en/latest/install.html\" target=\"_blank\">z.B. Latex und anschließend PDF</a>) konvertiert werden. Mit minimalen Anpassungen ist es so möglich, publikationsfähige Dokumente ohne großen Aufwand zu erstellen.\n",
    "\n",
    "\n",
    "\n",
    "Dabei reichen die Darstellungsmöglichkeiten soweit, dass mit Jupyter Notebooks schon vollständige, interaktive Bücher geschrieben wurden. Ein Beispiel ist die Einführung in die Bayes-Statistik <a href =\"http://nbviewer.jupyter.org/github/CamDavidsonPilon/Probabilistic-Programming-and-Bayesian-Methods-for-Hackers/blob/master/Prologue/Prologue.ipynb\" target=\"_blank\">Probabilistic Programming and\n",
    "Bayesian Methods for Hackers</a>. Der Link führt zu einer über den <a href = \"http://nbviewer.jupyter.org/\" target=\"_blank\">Notebook-Viewer</a> generierten HTML-Version des Notebooks. Über den Viewer bereitgestellte Notebooks können aber auch heruntergeladen und in die eigene Notebook-Umgebung eingefügt werden, wodurch der im Buch verwendete Code eigenhändig werden kann.\n",
    "\n",
    "Über folgenden Befehl können Jupyter Notebooks installiert werden: \n",
    "\n",
    "    conda install jupyter notebook\n",
    "    \n",
    "Anschließend kann die Notebook Umgebung gestart werden:\n",
    "\n",
    "    jupyter notebook\n",
    "  \n",
    "  "
   ]
  },
  {
   "cell_type": "markdown",
   "metadata": {},
   "source": [
    "  \n",
    "  ![Alt Text](http://jupyter.readthedocs.io/en/latest/_images/tryjupyter_file.png)"
   ]
  },
  {
   "cell_type": "markdown",
   "metadata": {},
   "source": [
    "Notebook-Files mit der Dateiendung *.ipynb* können anschließend mit der Maus in die Notebook-Umgebung gezogen oder über **Upload** geladen werden. Über **New -> Folder** können neue Ordner angelegt werden. Über **New -> Python 3** wird eine neue Notebook-Umgebung gestartet. "
   ]
  },
  {
   "cell_type": "markdown",
   "metadata": {},
   "source": [
    "### Anwendung"
   ]
  },
  {
   "cell_type": "markdown",
   "metadata": {},
   "source": [
    "Im Folgenden sind einige Beispiele zur Nutzung und Gestaltung von Notebooks dargestellt, die Möglichkeiten gehen allerdings weit über diese kurze Einführung hinaus. In der <a href =\"http://ipython.readthedocs.org/en/stable/\" target=\"_blank\">iPython-Dokumentation</a> und den [Jupyter Notebook Basics](https://jupyter-notebook.readthedocs.io/en/stable/examples/Notebook/Notebook%20Basics.html) finden sich weitere Optionen. Unter `File -> download as` können Notebooks in verschiedenen Formaten, z.B. `ipynb` oder `html`, abgespeichert werden. Keyboard Shortcuts erleichtern den Umgang mit Notebooks Eine Übersicht findet sich unter `help -> keyboard shortcuts`."
   ]
  },
  {
   "cell_type": "markdown",
   "metadata": {},
   "source": [
    "#### Zellen"
   ]
  },
  {
   "cell_type": "markdown",
   "metadata": {},
   "source": [
    "Notebooks sind in aufeinanderfolgenden Zellen organisiert. Je nach Typ der Zelle (der Typ kann über das Dropdown-Menü verändert werden) werden entweder Text bzw. Medien dargestellt oder nativer Code ausgeführt."
   ]
  },
  {
   "cell_type": "markdown",
   "metadata": {},
   "source": [
    "Zur Navigation zwischen den Zellen können mehrere Keyboard-Shortcuts verwendet werden. Über den Reiter **Help** findet sich eine Auflistung aller verfügbaren Kürzel."
   ]
  },
  {
   "cell_type": "markdown",
   "metadata": {},
   "source": [
    "Innerhalb einer <a href =\"http://daringfireball.net/projects/markdown/\" target=\"_blank\">Markdown</a>-Zelle können verschiedenste Darstellungsformen implementiert werden. Ein Doppelklick auf eine Markdown-Zelle ermöglicht die Bearbeitung und zeigt den zugrundeliegenden Code."
   ]
  },
  {
   "cell_type": "markdown",
   "metadata": {},
   "source": [
    "#### Umgang mit Zellen"
   ]
  },
  {
   "cell_type": "markdown",
   "metadata": {},
   "source": [
    "Für die Arbeit mit Notebookzellen gibt es zwei verschiedene Modi:"
   ]
  },
  {
   "cell_type": "markdown",
   "metadata": {},
   "source": [
    "##### Bearbeitungsmodus"
   ]
  },
  {
   "cell_type": "markdown",
   "metadata": {},
   "source": [
    "\n",
    "Der Bearbeitungsmodus wird durch einen grünen Zellenrand und eine Eingabeaufforderung im Editorbereich angezeigt:"
   ]
  },
  {
   "cell_type": "markdown",
   "metadata": {},
   "source": [
    "  \n",
    "  ![Alt Text](https://jupyter-notebook.readthedocs.io/en/stable/_images/edit_mode.png)\n"
   ]
  },
  {
   "cell_type": "markdown",
   "metadata": {},
   "source": [
    "Wenn sich eine Zelle im Bearbeitungsmodus befindet, kann wie in einem normalen Texteditor in der Zelle Eingaben gemacht werden.\n",
    "\n",
    "Der Bearbeitungsmodus kann durch drücken der ``ENTER`` Taste geöffnet werden oder durch einen Mausclick auf den Editorbereich der Zelle klicken.\n",
    "\n",
    "Ein paar nützliche Keyboard-Shortcuts für den Bearbeitungsmodus:\n",
    "\n",
    "- ``CTRL + ENTER``: Zelle ausführen\n",
    "- ``SHIFT + ENTER``: Zelle ausführen und zur nächsten Zelle springen"
   ]
  },
  {
   "cell_type": "markdown",
   "metadata": {},
   "source": [
    "##### Kommandomodus"
   ]
  },
  {
   "cell_type": "markdown",
   "metadata": {},
   "source": [
    "\n",
    "Der Befehlsmodus wird durch einen grauen Zellenrand mit einem blauen linken Rand angezeigt:"
   ]
  },
  {
   "cell_type": "markdown",
   "metadata": {},
   "source": [
    " ![Alt Text](https://jupyter-notebook.readthedocs.io/en/stable/_images/command_mode.png)"
   ]
  },
  {
   "cell_type": "markdown",
   "metadata": {},
   "source": [
    "Während im Befehlsmodus Inhalte einzelner Zellen bearbeitet werden kann Im Kommandomodus kann die Struktur eines Notebooks verändert werden.\n",
    "\n",
    "Der Kommandomodus kann durch drücken von `ESC` oder einen Mausklick  außerhalb des Editorbereichs einer Zelle aufgerufen werden.\n",
    "\n",
    "Ein paar nützliche Keyboard-Shortcuts für den Kommandomodus:\n",
    "\n",
    "- ``Pfeiltaste hoch``: zur vorherigen Zelle springen\n",
    "- ``Pfeiltaste runter``: zur nächsten Zelle springen\n",
    "- ``A``: neue Zelle oberhalb anlegen\n",
    "- ``B``: neue Zelle unterhalb anlegen\n",
    "- 2x ``D``: Zelle löschen \n",
    "- ``Y``: Zur Codezelle umwandeln\n",
    "- ``M``: zur Markdownzelle umwandeln"
   ]
  },
  {
   "cell_type": "markdown",
   "metadata": {},
   "source": [
    "#### Markdown Elemente"
   ]
  },
  {
   "cell_type": "markdown",
   "metadata": {},
   "source": [
    "##### Es gibt verschiedene Schriftarten.."
   ]
  },
  {
   "cell_type": "markdown",
   "metadata": {},
   "source": [
    "\n",
    " - *Italic*\n",
    " - _Italic_\n",
    " - **Bold**\n",
    " - __Bold__\n",
    " - ~~Throught~~"
   ]
  },
  {
   "cell_type": "markdown",
   "metadata": {},
   "source": [
    "##### Listen.."
   ]
  },
  {
   "cell_type": "markdown",
   "metadata": {},
   "source": [
    "* One\n",
    "    - Sublist\n",
    "        - This\n",
    "  - Sublist\n",
    "        - That\n",
    "        - The other thing\n",
    "* Two\n",
    "  - Sublist\n",
    "* Three\n",
    "  - Sublist"
   ]
  },
  {
   "cell_type": "markdown",
   "metadata": {},
   "source": [
    "##### Zitate.."
   ]
  },
  {
   "cell_type": "markdown",
   "metadata": {},
   "source": [
    "Ein Blockzitat:\n",
    "\n",
    "> [Beautiful is better than ugly](http://legacy.python.org/dev/peps/pep-0020/).\n",
    "> Explicit is better than implicit.\n",
    "> Simple is better than complex.\n",
    "> Complex is better than complicated.\n",
    "> Flat is better than nested.\n",
    "> Sparse is better than dense.\n",
    "> Readability counts.\n",
    "> Special cases aren't special enough to break the rules.\n",
    "> Although practicality beats purity.\n",
    "> Errors should never pass silently.\n",
    "> Unless explicitly silenced.\n",
    "> In the face of ambiguity, refuse the temptation to guess.\n",
    "> There should be one-- and preferably only one --obvious way to do it.\n",
    "> Although that way may not be obvious at first unless you're Dutch.\n",
    "> Now is better than never.\n",
    "> Although never is often better than *right* now.\n",
    "> If the implementation is hard to explain, it's a bad idea.\n",
    "> If the implementation is easy to explain, it may be a good idea.\n",
    "> Namespaces are one honking great idea -- let's do more of those!"
   ]
  },
  {
   "cell_type": "markdown",
   "metadata": {},
   "source": [
    "##### HTML.."
   ]
  },
  {
   "cell_type": "markdown",
   "metadata": {},
   "source": [
    "\n",
    "<p>Beinahe jeder <strong>HTML</strong> Code wird<br />problemlos <i>dargestellt</i>. </p>\n",
    "\n",
    "<table>\n",
    "<tr>\n",
    "<th>Header 1</th>\n",
    "<th>Header 2</th>\n",
    "</tr>\n",
    "<tr>\n",
    "<td>row 1, cell 1</td>\n",
    "<td>row 1, cell 2</td>\n",
    "</tr>\n",
    "<tr>\n",
    "<td>row 2, cell 1</td>\n",
    "<td>row 2, cell 2</td>\n",
    "</tr>\n",
    "</table>"
   ]
  },
  {
   "cell_type": "markdown",
   "metadata": {},
   "source": [
    "##### Latex.."
   ]
  },
  {
   "cell_type": "markdown",
   "metadata": {},
   "source": [
    "\n",
    "$e^{i\\pi} + 1 = 0$ \n",
    "\n",
    "\n",
    "$$e^x=\\sum_{i=0}^\\infty \\frac{1}{i!}x^i$$\n",
    "\n",
    "- Alpha: $\\alpha A$\n",
    "- Beta: $\\beta B$\n",
    "- Gamma: $\\gamma \\Gamma$\n",
    "\n",
    "\n",
    "- $y = x + 5$\n",
    "- $y = x \\times 5$\n",
    "- $y = \\frac{x}{5}$"
   ]
  },
  {
   "cell_type": "markdown",
   "metadata": {},
   "source": [
    "##### Links.."
   ]
  },
  {
   "cell_type": "markdown",
   "metadata": {},
   "source": [
    "https://www.google.com\n",
    "\n",
    "[Google](https://www.google.com)\n",
    "\n",
    "[Google mit Tooltip](https://www.google.com \"Google's Homepage\")"
   ]
  },
  {
   "cell_type": "markdown",
   "metadata": {},
   "source": [
    "##### Bilder.."
   ]
  },
  {
   "cell_type": "markdown",
   "metadata": {},
   "source": [
    "![Alt Text](https://www.python.org/static/opengraph-icon-200x200.png \"Python Logo\")"
   ]
  },
  {
   "cell_type": "markdown",
   "metadata": {},
   "source": [
    "#####  externe Seiten.."
   ]
  },
  {
   "cell_type": "code",
   "execution_count": null,
   "metadata": {},
   "outputs": [],
   "source": [
    "# Diese Zelle ist keine Markdown-Zelle, sondern eine Code-Zelle in der Python-Code ausgeführt wird\n",
    "# Rauten ermöglichen die Kommentierung innerhalb von Code-Zellen\n",
    "\n",
    "from IPython.display import IFrame # Über \"import\" werden Python-Pakete geladen\n",
    "IFrame('http://en.wikipedia.org/?useformat=mobile', width = 800, height = 400)"
   ]
  },
  {
   "cell_type": "markdown",
   "metadata": {},
   "source": [
    "##### und Videos.."
   ]
  },
  {
   "cell_type": "code",
   "execution_count": null,
   "metadata": {
    "scrolled": true
   },
   "outputs": [],
   "source": [
    "# Python verdankt seinen Namen nicht der bekannten Schlangengattung!\n",
    "\n",
    "from IPython.display import YouTubeVideo \n",
    "YouTubeVideo('cFrtpT1mKy8')"
   ]
  },
  {
   "cell_type": "markdown",
   "metadata": {},
   "source": [
    "Jupyter Notebooks eignen sich also sehr gut zur Darstellung von Text- und Bildelementen. Das mächtigste Feature von Jupyter Notebooks ist jedoch die interaktive Darstellung von Programm-Code innerhalb von Code-Zellen."
   ]
  },
  {
   "cell_type": "markdown",
   "metadata": {},
   "source": [
    "##### Python Programmierung"
   ]
  },
  {
   "cell_type": "markdown",
   "metadata": {},
   "source": [
    "Es folgen einige kurze Beispiele um zu zeigen was mit wenigen Zeilen Python-Code möglich ist."
   ]
  },
  {
   "cell_type": "code",
   "execution_count": null,
   "metadata": {},
   "outputs": [],
   "source": [
    "# Strings\n",
    "\"This is a not a number\""
   ]
  },
  {
   "cell_type": "code",
   "execution_count": null,
   "metadata": {},
   "outputs": [],
   "source": [
    "# Zahlen und Rechenoperationen\n",
    "10 / 2"
   ]
  },
  {
   "cell_type": "code",
   "execution_count": null,
   "metadata": {},
   "outputs": [],
   "source": [
    "# Variablen\n",
    "x = 2000.0\n",
    "x - 555.55"
   ]
  },
  {
   "cell_type": "code",
   "execution_count": null,
   "metadata": {},
   "outputs": [],
   "source": [
    "# Funktionen\n",
    "g = lambda x: x ** 2\n",
    "g(8)"
   ]
  },
  {
   "cell_type": "code",
   "execution_count": null,
   "metadata": {},
   "outputs": [],
   "source": [
    "# Fibonacci-Folge als Funktion\n",
    "def fibonacci(z):\n",
    "    x,y = 0,1\n",
    "    l = []\n",
    "    while x < z:\n",
    "        l.append(x)\n",
    "        x, y = y, x + y     \n",
    "    return l\n",
    "\n",
    "print(fibonacci(10000))"
   ]
  },
  {
   "cell_type": "code",
   "execution_count": null,
   "metadata": {},
   "outputs": [],
   "source": [
    "# Plots\n",
    "%matplotlib inline\n",
    "import pandas as pd\n",
    "import seaborn as sns\n",
    "sns.set(style = \"white\")"
   ]
  },
  {
   "cell_type": "code",
   "execution_count": null,
   "metadata": {},
   "outputs": [],
   "source": [
    "df = sns.load_dataset(\"anscombe\")\n",
    "sns.lmplot(x = \"x\", y = \"y\", col = \"dataset\", hue = \"dataset\", data = df,\n",
    "           col_wrap = 2, ci = None, palette = \"muted\", height = 3,\n",
    "           scatter_kws ={\"s\": 50, \"alpha\": 1});"
   ]
  },
  {
   "cell_type": "code",
   "execution_count": null,
   "metadata": {},
   "outputs": [],
   "source": [
    "titanic = sns.load_dataset(\"titanic\")\n",
    "g = sns.catplot(x = \"class\", y=\"survived\", hue = \"sex\", data = titanic,\n",
    "                   height = 5, kind = \"bar\", palette = \"muted\")\n",
    "g.despine(left = True)\n",
    "g.set_ylabels(\"titanic - survival probability\");"
   ]
  },
  {
   "cell_type": "code",
   "execution_count": null,
   "metadata": {},
   "outputs": [],
   "source": [
    "# Data-Frames\n",
    "import numpy as np\n",
    "dates = pd.date_range('20140101',periods=5)\n",
    "df = pd.DataFrame(np.random.randn(5,4),index=dates,columns=list('ABCD'))\n",
    "df"
   ]
  },
  {
   "cell_type": "code",
   "execution_count": null,
   "metadata": {},
   "outputs": [],
   "source": [
    "df.describe()"
   ]
  },
  {
   "cell_type": "code",
   "execution_count": null,
   "metadata": {},
   "outputs": [],
   "source": [
    "import statsmodels.formula.api as sm\n",
    "\n",
    "url = \"http://vincentarelbundock.github.com/Rdatasets/csv/HistData/Guerry.csv\"\n",
    "df = pd.read_csv(url)\n",
    "df = df[['Lottery', 'Literacy', 'Wealth', 'Region']].dropna()\n",
    "df.head()"
   ]
  },
  {
   "cell_type": "code",
   "execution_count": null,
   "metadata": {},
   "outputs": [],
   "source": [
    "# Berechnung von Regressionsmodellen\n",
    "model = sm.ols(formula='Lottery ~ Literacy + Wealth + Region', data=df)\n",
    "res = model.fit()\n",
    "print(res.summary())"
   ]
  },
  {
   "cell_type": "markdown",
   "metadata": {},
   "source": [
    "<a href = \"https://github.com/jupyter/jupyter/wiki/A-gallery-of-interesting-Jupyter-Notebooks\" target=\"_blank\">und vieles mehr..</a>\n",
    "\n",
    "  \n",
    "    \n",
    "      \n",
    "      "
   ]
  },
  {
   "cell_type": "markdown",
   "metadata": {},
   "source": [
    "## Python lernen"
   ]
  },
  {
   "cell_type": "markdown",
   "metadata": {},
   "source": [
    "\n",
    "Es existiert mittlerweile eine große Auswahl an Einstiegsliteratur zu Python. Viele gute (überwiegend in englischer Sprache verfasste) Quellen sind kostenlos online verfügbar - die Anschaffung teurer Bücher oder Videokurse ist nicht zwingend notwendig. Je nach bevorzugter Lernweise findet sich hier eine kleine Sammlung an Einstiegsmöglichkeiten:"
   ]
  },
  {
   "cell_type": "markdown",
   "metadata": {},
   "source": [
    "##### E-Docs:"
   ]
  },
  {
   "cell_type": "markdown",
   "metadata": {},
   "source": [
    "[Think Python - How to think like a Computer Scientist](http://www.greenteapress.com/thinkpython/). \n",
    "\n",
    "Ein Einführungsbuch zu Python, in dem auch grundlegende Informatikkenntnisse vermittelt werden."
   ]
  },
  {
   "cell_type": "markdown",
   "metadata": {},
   "source": [
    "[The Python Tutorial](https://docs.python.org/3/tutorial/index.html)\n",
    "\n",
    "Das offizielle Python Tutorial."
   ]
  },
  {
   "cell_type": "markdown",
   "metadata": {},
   "source": [
    "##### Online Kurse:"
   ]
  },
  {
   "cell_type": "markdown",
   "metadata": {},
   "source": [
    "[Introduction to Python Programming](https://www.udacity.com/course/cs101)\n",
    "\n",
    "Ein praxisorientierter Einstiegskurs in Python und die Informatik."
   ]
  },
  {
   "cell_type": "markdown",
   "metadata": {},
   "source": [
    "[An Introduction to Interactive Programming in Python](https://www.coursera.org/course/interactivepython)\n",
    "\n",
    "Das Coursera Pendant zu *Intro to Python Programming*."
   ]
  },
  {
   "cell_type": "markdown",
   "metadata": {},
   "source": [
    "##### Sonstiges:"
   ]
  },
  {
   "cell_type": "markdown",
   "metadata": {},
   "source": [
    "[The Python Challenge](http://www.pythonchallenge.com/)\n",
    "\n",
    "Ein Online-Rätsel in dessen Verlauf zunehmend anspruchsvollere Pythonaufgaben gelöst werden müssen.\n",
    "\n",
    "[Kaggle - From Big Data to Big Analytics](http://www.kaggle.com/) \n",
    "\n",
    "Eine Data-Science-Plattform mit Einsteiger-Tutorial, auf der (teilweise preislich hoch datierte) Online-Wettbewerbe zu datenanalytischen Problemstellungen veranstaltet werden. "
   ]
  },
  {
   "cell_type": "markdown",
   "metadata": {},
   "source": [
    "###### Für spezifische Anwendungsgebiete finden sich hier noch Links zu einigen bekannten Python Paketen:"
   ]
  },
  {
   "cell_type": "markdown",
   "metadata": {},
   "source": [
    "http://www.nltk.org/ - Textverarbeitung mit Python.\n",
    "\n",
    "http://pandas.pydata.org/ - die Python Alternative zu Statistikprogrammen wie R, Stata und SPSS.\n",
    "\n",
    "http://statsmodels.sourceforge.net/ - Ein überschaubares Statistikpaket, welches u.a. auch Verfahren wie OLS- und Logitregressionen beinhaltet.\n",
    "\n",
    "http://scikit-learn.org/stable/ - Machine Learning in Python. \n",
    "\n",
    "https://lifelines.readthedocs.org/en/latest/ - Python Paket für Ereignisanalysen.\n",
    "\n",
    "https://networkx.github.io/ - (Soziale) Netzwerke in Python.\n",
    "\n",
    "http://www.crummy.com/software/BeautifulSoup/ - Web Scraping Bibliothek zur Informationserfassung auf Webseiten.\n"
   ]
  },
  {
   "cell_type": "markdown",
   "metadata": {},
   "source": [
    "<br>\n",
    "<br>\n",
    "\n",
    "\n",
    "___\n",
    "\n",
    "                \n",
    "**Kontakt: Carsten Schwemmer** (Webseite: www.carstenschwemmer.com,  Email: c.schwem2er@gmail.com)"
   ]
  }
 ],
 "metadata": {
  "kernelspec": {
   "display_name": "Python 3",
   "language": "python",
   "name": "python3"
  },
  "language_info": {
   "codemirror_mode": {
    "name": "ipython",
    "version": 3
   },
   "file_extension": ".py",
   "mimetype": "text/x-python",
   "name": "python",
   "nbconvert_exporter": "python",
   "pygments_lexer": "ipython3",
   "version": "3.8.8"
  }
 },
 "nbformat": 4,
 "nbformat_minor": 2
}
