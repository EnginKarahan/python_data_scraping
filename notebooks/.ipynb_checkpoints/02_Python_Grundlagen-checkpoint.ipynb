{
 "cells": [
  {
   "cell_type": "markdown",
   "metadata": {
    "slideshow": {
     "slide_type": "slide"
    }
   },
   "source": [
    "# 02 - Python Grundlagen"
   ]
  },
  {
   "cell_type": "markdown",
   "metadata": {
    "slideshow": {
     "slide_type": "subslide"
    }
   },
   "source": [
    "Das erste Python \"Programm\":"
   ]
  },
  {
   "cell_type": "code",
   "execution_count": 9,
   "metadata": {
    "scrolled": true,
    "slideshow": {
     "slide_type": "fragment"
    }
   },
   "outputs": [
    {
     "data": {
      "text/plain": [
       "'Hallooooooooo!'"
      ]
     },
     "execution_count": 9,
     "metadata": {},
     "output_type": "execute_result"
    }
   ],
   "source": [
    "'Hallooooooooo!'"
   ]
  },
  {
   "cell_type": "markdown",
   "metadata": {
    "slideshow": {
     "slide_type": "subslide"
    }
   },
   "source": [
    "Python als Taschenrechner:"
   ]
  },
  {
   "cell_type": "code",
   "execution_count": 10,
   "metadata": {
    "slideshow": {
     "slide_type": "fragment"
    }
   },
   "outputs": [
    {
     "data": {
      "text/plain": [
       "2.0"
      ]
     },
     "execution_count": 10,
     "metadata": {},
     "output_type": "execute_result"
    }
   ],
   "source": [
    "8 / 4"
   ]
  },
  {
   "cell_type": "markdown",
   "metadata": {
    "slideshow": {
     "slide_type": "subslide"
    }
   },
   "source": [
    "Wenn mehrere Ausgaben in einer Zelle dargestellt werden sollen, muss über `print()` Statements gearbeitet werden:"
   ]
  },
  {
   "cell_type": "code",
   "execution_count": 11,
   "metadata": {
    "slideshow": {
     "slide_type": "fragment"
    }
   },
   "outputs": [
    {
     "name": "stdout",
     "output_type": "stream",
     "text": [
      "3\n",
      "1\n"
     ]
    }
   ],
   "source": [
    "print(0 + 3)\n",
    "print(4 // 4)"
   ]
  },
  {
   "cell_type": "markdown",
   "metadata": {
    "slideshow": {
     "slide_type": "subslide"
    }
   },
   "source": [
    "**Typen:**\n",
    "* int (Ganze Zahlen)\n",
    "* float (Dezimalzahlen)\n",
    "* str (Zeichenkette)\n",
    "\n",
    "**Operatoren:**\n",
    "* Arithmethische Operatoren (`+`, `-`, `/`, `*`, usw.)\n",
    "* Logische Operatoren (`and`, `or`, `not`, `==`, usw.)\n",
    "\n",
    "**Kommentare:**"
   ]
  },
  {
   "cell_type": "code",
   "execution_count": 12,
   "metadata": {
    "slideshow": {
     "slide_type": "fragment"
    }
   },
   "outputs": [
    {
     "data": {
      "text/plain": [
       "'this is not a number'"
      ]
     },
     "execution_count": 12,
     "metadata": {},
     "output_type": "execute_result"
    }
   ],
   "source": [
    "'this is not a number' # <--  Kommentarzeichen; ausgiebig nutzen!"
   ]
  },
  {
   "cell_type": "markdown",
   "metadata": {
    "slideshow": {
     "slide_type": "subslide"
    }
   },
   "source": [
    "Addieren und multiplizieren funktioniert auch mit Strings (Zeichenketten):"
   ]
  },
  {
   "cell_type": "code",
   "execution_count": 13,
   "metadata": {
    "scrolled": false,
    "slideshow": {
     "slide_type": "fragment"
    }
   },
   "outputs": [
    {
     "name": "stdout",
     "output_type": "stream",
     "text": [
      "string1___string2\n",
      "string1string1string1string1string1string1string1string1string1string1string1string1string1string1string1string1string1string1string1string1string1string1string1string1string1string1string1string1string1string1string1string1string1string1string1string1string1string1string1string1string1string1string1string1string1string1string1string1string1string1string1string1string1string1string1string1string1string1string1string1string1string1string1string1string1string1string1string1string1string1string1string1string1string1string1string1string1string1string1\n"
     ]
    }
   ],
   "source": [
    "print('string1' + '___' + 'string2')\n",
    "print('string1' * 79)"
   ]
  },
  {
   "cell_type": "markdown",
   "metadata": {
    "slideshow": {
     "slide_type": "slide"
    }
   },
   "source": [
    "## Zuweisung in Python\n",
    "\n",
    "Um Objekte im Arbeitspeicher (genauer im Namespace) zu behalten und damit weiterarbeiten zu können müssen sie einem Symbol zugeordnet werden. Dies funktioniert wie folgt:\n",
    "\n",
    "``Symbol = Objekt``"
   ]
  },
  {
   "cell_type": "code",
   "execution_count": 14,
   "metadata": {
    "slideshow": {
     "slide_type": "fragment"
    }
   },
   "outputs": [
    {
     "name": "stdout",
     "output_type": "stream",
     "text": [
      "bacon, eggs and eggsmore spam\n"
     ]
    }
   ],
   "source": [
    "spam = 'bacon, eggs and eggs'\n",
    "print(spam + 'more spam')"
   ]
  },
  {
   "cell_type": "markdown",
   "metadata": {
    "slideshow": {
     "slide_type": "subslide"
    }
   },
   "source": [
    "Über das [magic command](https://ipython.readthedocs.io/en/stable/interactive/magics.html) `%whos` können alle im \"Namespace\" abgelegten Objekte ausgegeben werden:"
   ]
  },
  {
   "cell_type": "code",
   "execution_count": 15,
   "metadata": {
    "slideshow": {
     "slide_type": "fragment"
    }
   },
   "outputs": [
    {
     "name": "stdout",
     "output_type": "stream",
     "text": [
      "Variable        Type    Data/Info\n",
      "---------------------------------\n",
      "some_variable   str     spam\n",
      "spam            str     bacon, eggs and eggs\n"
     ]
    }
   ],
   "source": [
    "%whos"
   ]
  },
  {
   "cell_type": "markdown",
   "metadata": {
    "slideshow": {
     "slide_type": "subslide"
    }
   },
   "source": [
    "Wenn Symbole angefragt werden, die nicht im Arbeitsspeicher abgelegt sind, wird eine Fehlermeldung ausgegeben:"
   ]
  },
  {
   "cell_type": "code",
   "execution_count": 16,
   "metadata": {
    "scrolled": true,
    "slideshow": {
     "slide_type": "fragment"
    }
   },
   "outputs": [
    {
     "ename": "NameError",
     "evalue": "name 'some_vAriable' is not defined",
     "output_type": "error",
     "traceback": [
      "\u001b[1;31m---------------------------------------------------------------------------\u001b[0m",
      "\u001b[1;31mNameError\u001b[0m                                 Traceback (most recent call last)",
      "\u001b[1;32m<ipython-input-16-683b83567db2>\u001b[0m in \u001b[0;36m<module>\u001b[1;34m\u001b[0m\n\u001b[0;32m      1\u001b[0m \u001b[0msome_variable\u001b[0m \u001b[1;33m=\u001b[0m \u001b[1;34m'spam'\u001b[0m\u001b[1;33m\u001b[0m\u001b[1;33m\u001b[0m\u001b[0m\n\u001b[1;32m----> 2\u001b[1;33m \u001b[0msome_vAriable\u001b[0m\u001b[1;33m\u001b[0m\u001b[1;33m\u001b[0m\u001b[0m\n\u001b[0m",
      "\u001b[1;31mNameError\u001b[0m: name 'some_vAriable' is not defined"
     ]
    }
   ],
   "source": [
    "some_variable = 'spam'\n",
    "some_vAriable"
   ]
  },
  {
   "cell_type": "markdown",
   "metadata": {
    "slideshow": {
     "slide_type": "subslide"
    }
   },
   "source": [
    "### Übungsaufgabe 1\n",
    "\n",
    "Löst das Rätsel **Null** der **[Python-Challenge](http://www.pythonchallenge.com)**:\n",
    "\n",
    "> What is the Python Challenge? \n",
    "> The Python Challenge is a set of riddles that require a little bit of Python programming to be solved. The solutions are  entered by changing the address of the page (URL). You get used to the idea pretty fast after solving the first few levels.\n",
    "\n",
    "*Hinweis: Die meisten Python Probleme können über eine kurze [Google Suche](http://lmgtfy.com/?q=how+to+do+exponentiation+in+python) gelöst werden.*"
   ]
  },
  {
   "cell_type": "code",
   "execution_count": null,
   "metadata": {
    "scrolled": true,
    "slideshow": {
     "slide_type": "subslide"
    }
   },
   "outputs": [],
   "source": [
    "from IPython.display import IFrame\n",
    "IFrame('http://www.pythonchallenge.com/pc/def/0.html', width = 800, height = 400)"
   ]
  },
  {
   "cell_type": "code",
   "execution_count": null,
   "metadata": {
    "slideshow": {
     "slide_type": "subslide"
    }
   },
   "outputs": [],
   "source": [
    "# Code für Aufgabe 1\n",
    "2 ** 38"
   ]
  },
  {
   "cell_type": "markdown",
   "metadata": {
    "slideshow": {
     "slide_type": "subslide"
    }
   },
   "source": [
    "### Übungsaufgabe 2\n",
    "\n",
    "Schreibt Python Code über den die Anzahl an Stunden in sieben Wochen ausgegeben wird. Arbeitet dabei mit Objektzuweisungen."
   ]
  },
  {
   "cell_type": "code",
   "execution_count": null,
   "metadata": {
    "slideshow": {
     "slide_type": "subslide"
    }
   },
   "outputs": [],
   "source": [
    "# Code für Aufgabe 2\n",
    "day = 24\n",
    "week = 7 * day\n",
    "ergebnis = 7 * week\n",
    "print(f'Stunden pro Tag: {day} h')\n",
    "print(f'Stunden pro Woche: {week} h')\n",
    "print(f'Stunden in sieben Wochen: {ergebnis} h')"
   ]
  },
  {
   "cell_type": "markdown",
   "metadata": {
    "slideshow": {
     "slide_type": "slide"
    }
   },
   "source": [
    "## Funktionen:\n",
    "\n",
    "Funktionen sind \"Mini-\"Programme die bestimmte Aufgaben wiederholt ausführen können. Sie werden folgendermaßen gerufen:\n",
    "\n",
    "`name_der_funktion(argumente)`"
   ]
  },
  {
   "cell_type": "code",
   "execution_count": null,
   "metadata": {
    "slideshow": {
     "slide_type": "subslide"
    }
   },
   "outputs": [],
   "source": [
    "x = 'String' + ' '\n",
    "len(x)"
   ]
  },
  {
   "cell_type": "markdown",
   "metadata": {
    "slideshow": {
     "slide_type": "subslide"
    }
   },
   "source": [
    "über `?`  (alternativ Tasenkombination *Shift + Tab*) kann die Hilfsdokumentation aufgerufen werden:"
   ]
  },
  {
   "cell_type": "code",
   "execution_count": null,
   "metadata": {
    "slideshow": {
     "slide_type": "fragment"
    }
   },
   "outputs": [],
   "source": [
    "?len"
   ]
  },
  {
   "cell_type": "markdown",
   "metadata": {
    "slideshow": {
     "slide_type": "subslide"
    }
   },
   "source": [
    "### Strings\n",
    "\n",
    "Eine beliebig lange Zeichenkette. Beginnt entweder mit `'` oder `\"` und muss immer auf die selbe Art beendet werden. Einmal definiert sind Strings nicht mehr veränderbar."
   ]
  },
  {
   "cell_type": "code",
   "execution_count": null,
   "metadata": {
    "scrolled": true,
    "slideshow": {
     "slide_type": "fragment"
    }
   },
   "outputs": [],
   "source": [
    "print(\"String\")"
   ]
  },
  {
   "cell_type": "code",
   "execution_count": null,
   "metadata": {
    "scrolled": true,
    "slideshow": {
     "slide_type": "subslide"
    }
   },
   "outputs": [],
   "source": [
    "\"String'"
   ]
  },
  {
   "cell_type": "code",
   "execution_count": null,
   "metadata": {
    "scrolled": true,
    "slideshow": {
     "slide_type": "fragment"
    }
   },
   "outputs": [],
   "source": [
    "\"don't\""
   ]
  },
  {
   "cell_type": "code",
   "execution_count": null,
   "metadata": {
    "slideshow": {
     "slide_type": "fragment"
    }
   },
   "outputs": [],
   "source": [
    "'don\\'t'"
   ]
  },
  {
   "cell_type": "markdown",
   "metadata": {
    "slideshow": {
     "slide_type": "slide"
    }
   },
   "source": [
    "## Indexierung\n",
    "\n",
    "Python-Objekte, die geordnete Sequenzen darstellen (z.B. Strings, Listen, Tupel) können über einen Index angesprochen werden. Dieser Index erlaubt es einzelne Elemente oder Gruppen von Elementen innerhalb der Sequenz zu spezifizieren.\n",
    "\n",
    "Es gilt folgende formale Definition:\n",
    "\n",
    "`Objekt[i:j:k]` = Von `i` (einschließlich) bis unter `j` (ausschließlich) in `k` Schritten."
   ]
  },
  {
   "cell_type": "markdown",
   "metadata": {
    "slideshow": {
     "slide_type": "subslide"
    }
   },
   "source": [
    "### Python beginnt im Erdgeschoss (0)!\n",
    "\n",
    "Python implementiert eine nullbasierte Indexierung, weshalb das erste Element (anders als z.B. in `R`) über eine `0` angesteuert werden muss:"
   ]
  },
  {
   "cell_type": "code",
   "execution_count": null,
   "metadata": {
    "slideshow": {
     "slide_type": "subslide"
    }
   },
   "outputs": [],
   "source": [
    "x = 'String'"
   ]
  },
  {
   "cell_type": "code",
   "execution_count": null,
   "metadata": {
    "slideshow": {
     "slide_type": "subslide"
    }
   },
   "outputs": [],
   "source": [
    "print(x[1])     "
   ]
  },
  {
   "cell_type": "code",
   "execution_count": null,
   "metadata": {
    "slideshow": {
     "slide_type": "subslide"
    }
   },
   "outputs": [],
   "source": [
    "print(x[2]) # das \"dritte\" element (0, 1, 2)\n",
    "print(x[1:]) # jedes Element ab 1 't'\n",
    "print(x[1:3]) # von 1 (inklusive) bis 3 (exklusive)\n",
    "print(x[::2])"
   ]
  },
  {
   "cell_type": "markdown",
   "metadata": {
    "slideshow": {
     "slide_type": "subslide"
    }
   },
   "source": [
    "### Übungsaufgabe 3\n",
    "Gegeben sind die beiden Objekte\n",
    "````\n",
    "str1 = \"Superkalilegorisch\"\n",
    "str2 = \"fragilistischexpial\"\n",
    "````\n",
    "Schreibt Python Code, über den der String *Superkalifragilistischexpiallegorisch* ausgegeben wird. Verwendet dafür keine Anführungszeichen, sondern Indexierung."
   ]
  },
  {
   "cell_type": "code",
   "execution_count": null,
   "metadata": {
    "slideshow": {
     "slide_type": "subslide"
    }
   },
   "outputs": [],
   "source": [
    "# Code für Übungsaufgabe 3\n",
    "str1 = \"Superkalilegorisch\"\n",
    "str2 = \"fragilistischexpial\"\n",
    "str1_beginning = str1[:9]\n",
    "str1_end = str1[9:]\n",
    "str3 = str1_beginning + str2 + str1_end\n",
    "str3"
   ]
  },
  {
   "cell_type": "markdown",
   "metadata": {
    "slideshow": {
     "slide_type": "slide"
    }
   },
   "source": [
    "###  Datentypen\n",
    "\n",
    "Der Typ eines Objekts kann über die Funktion `type()`aufgerufen werden:"
   ]
  },
  {
   "cell_type": "code",
   "execution_count": 18,
   "metadata": {
    "slideshow": {
     "slide_type": "fragment"
    }
   },
   "outputs": [
    {
     "name": "stdout",
     "output_type": "stream",
     "text": [
      "12\n",
      "foo\n",
      "6.0\n",
      "77777\n",
      "4 - 1\n"
     ]
    },
    {
     "data": {
      "text/plain": [
       "float"
      ]
     },
     "execution_count": 18,
     "metadata": {},
     "output_type": "execute_result"
    }
   ],
   "source": [
    "a = \"foo\"\n",
    "b = 4 + 2.0\n",
    "c = 5 * \"7\"\n",
    "d = \"4 - 1\"\n",
    "\n",
    "print(str(5 + 7))\n",
    "print(a)\n",
    "print(b)\n",
    "print(c)\n",
    "print(d)\n",
    "type(b)"
   ]
  },
  {
   "cell_type": "markdown",
   "metadata": {
    "slideshow": {
     "slide_type": "subslide"
    }
   },
   "source": [
    "Je nach Datentyp sind unterschiedliche Operationen möglich. Einzelne Teile eines Strings können z.B. nicht verändert werden:"
   ]
  },
  {
   "cell_type": "code",
   "execution_count": 19,
   "metadata": {
    "slideshow": {
     "slide_type": "fragment"
    }
   },
   "outputs": [
    {
     "ename": "TypeError",
     "evalue": "'str' object does not support item assignment",
     "output_type": "error",
     "traceback": [
      "\u001b[1;31m---------------------------------------------------------------------------\u001b[0m",
      "\u001b[1;31mTypeError\u001b[0m                                 Traceback (most recent call last)",
      "\u001b[1;32m<ipython-input-19-e7f264968079>\u001b[0m in \u001b[0;36m<module>\u001b[1;34m\u001b[0m\n\u001b[0;32m      1\u001b[0m \u001b[1;31m## Unveränderlich\u001b[0m\u001b[1;33m\u001b[0m\u001b[1;33m\u001b[0m\u001b[1;33m\u001b[0m\u001b[0m\n\u001b[0;32m      2\u001b[0m \u001b[0ms1\u001b[0m \u001b[1;33m=\u001b[0m \u001b[1;34m'Spam, Spam, beans and eggs'\u001b[0m\u001b[1;33m\u001b[0m\u001b[1;33m\u001b[0m\u001b[0m\n\u001b[1;32m----> 3\u001b[1;33m \u001b[0ms1\u001b[0m\u001b[1;33m[\u001b[0m\u001b[1;36m4\u001b[0m\u001b[1;33m]\u001b[0m \u001b[1;33m=\u001b[0m \u001b[1;34m'x'\u001b[0m \u001b[1;31m# Fehler\u001b[0m\u001b[1;33m\u001b[0m\u001b[1;33m\u001b[0m\u001b[0m\n\u001b[0m",
      "\u001b[1;31mTypeError\u001b[0m: 'str' object does not support item assignment"
     ]
    }
   ],
   "source": [
    "## Unveränderlich\n",
    "s1 = 'Spam, Spam, beans and eggs'\n",
    "s1[4] = 'x' # Fehler"
   ]
  },
  {
   "cell_type": "markdown",
   "metadata": {
    "slideshow": {
     "slide_type": "subslide"
    }
   },
   "source": [
    "Ausnahme: Erzeugung eines neuen Strings"
   ]
  },
  {
   "cell_type": "code",
   "execution_count": 20,
   "metadata": {
    "slideshow": {
     "slide_type": "fragment"
    }
   },
   "outputs": [
    {
     "name": "stdout",
     "output_type": "stream",
     "text": [
      "Spam, Spam, beans and eggs with Spam on the side!\n"
     ]
    }
   ],
   "source": [
    "# Addieren und Objektzuweisung in einem Schritt über +=\n",
    "s1 += ' with Spam on the side!'\n",
    "print(s1)"
   ]
  },
  {
   "cell_type": "markdown",
   "metadata": {
    "slideshow": {
     "slide_type": "subslide"
    }
   },
   "source": [
    "Einige nützliche Funktionen und Methoden für die Verarbeitung von Strings:"
   ]
  },
  {
   "cell_type": "code",
   "execution_count": 21,
   "metadata": {
    "slideshow": {
     "slide_type": "fragment"
    }
   },
   "outputs": [
    {
     "name": "stdout",
     "output_type": "stream",
     "text": [
      "3\n",
      "9\n",
      "SPAM, SPAM, BEANS AND EGGS WITH SPAM ON THE SIDE!\n"
     ]
    }
   ],
   "source": [
    "## Wie viel Spam?\n",
    "print(s1.lower().count('spam'))\n",
    "\n",
    "## Wie viele Worte?\n",
    "print(s1.count(' '))\n",
    "\n",
    "s1 = s1.upper()\n",
    "print(s1)"
   ]
  },
  {
   "cell_type": "code",
   "execution_count": 23,
   "metadata": {
    "slideshow": {
     "slide_type": "subslide"
    }
   },
   "outputs": [
    {
     "name": "stdout",
     "output_type": "stream",
     "text": [
      "SPAM, SPAM, BEANS AND EGGS WITH SPAM ON THE SIDE!\n",
      "<class 'int'>\n"
     ]
    },
    {
     "data": {
      "text/plain": [
       "'BEANS AND EGGS WITH SPAM ON THE SIDE!'"
      ]
     },
     "execution_count": 23,
     "metadata": {},
     "output_type": "execute_result"
    }
   ],
   "source": [
    "## Erste Indexstelle für Element finden:\n",
    "print(s1)\n",
    "index = s1.find('BEANS')\n",
    "print(type(index))\n",
    "s1[index:]"
   ]
  },
  {
   "cell_type": "code",
   "execution_count": 22,
   "metadata": {
    "slideshow": {
     "slide_type": "subslide"
    }
   },
   "outputs": [
    {
     "name": "stdout",
     "output_type": "stream",
     "text": [
      "SPAM, SPAM, BEANS AND EGGS WITH SPAM ON THE SIDE!\n"
     ]
    },
    {
     "data": {
      "text/plain": [
       "False"
      ]
     },
     "execution_count": 22,
     "metadata": {},
     "output_type": "execute_result"
    }
   ],
   "source": [
    "print(s1)\n",
    "s1.islower() # uppercase"
   ]
  },
  {
   "cell_type": "code",
   "execution_count": null,
   "metadata": {
    "slideshow": {
     "slide_type": "subslide"
    }
   },
   "outputs": [],
   "source": [
    "print(s1)\n",
    "print(s1.replace(' ', '_')) # ersetzen"
   ]
  },
  {
   "cell_type": "markdown",
   "metadata": {
    "slideshow": {
     "slide_type": "subslide"
    }
   },
   "source": [
    "### Übungsaufgabe 4\n",
    "\n",
    "Gegeben sind drei Strings.  Kombiniert diese Strings in einem neuen Objekt, sodass alle Buchstaben als Kleinbuchstaben abgespeichert werden. Ersetzt alle Leerzeichen ( = whitespace) durch Underscores `_`. Wie oft kommt der Buchstabe *i* in dem kombinierten String vor?"
   ]
  },
  {
   "cell_type": "code",
   "execution_count": 28,
   "metadata": {
    "slideshow": {
     "slide_type": "subslide"
    }
   },
   "outputs": [
    {
     "name": "stdout",
     "output_type": "stream",
     "text": [
      "simple_is_better_than_complex._complex_is_better_than_complicated._flat_is_better_than_nested.\n",
      "5\n"
     ]
    }
   ],
   "source": [
    "# Code für Übungsaufgabe 4\n",
    "\n",
    "zen_ = \"Simple is better than complex. \"\n",
    "of_ = \"COMPLEX IS BETTER THAN COMPLICATED. \"\n",
    "python_ = \"flat is better than nested.\"\n",
    "result = zen_.lower() + of_.lower() + python_.lower()\n",
    "result = result.replace(' ', '_')\n",
    "print(result)\n",
    "print(result.count('i'))"
   ]
  },
  {
   "cell_type": "markdown",
   "metadata": {
    "slideshow": {
     "slide_type": "slide"
    }
   },
   "source": [
    "## Listen\n",
    "\n",
    "Listen sind veränderbare Sequenzen. Sie werden mit `[` begonnen und mit `]`geschlossen. Einzelne Elemente werden mit `,` voneinander getrennt. Listen haben einen Index."
   ]
  },
  {
   "cell_type": "code",
   "execution_count": 29,
   "metadata": {
    "slideshow": {
     "slide_type": "subslide"
    }
   },
   "outputs": [
    {
     "data": {
      "text/plain": [
       "[1, 3, 3, 7]"
      ]
     },
     "execution_count": 29,
     "metadata": {},
     "output_type": "execute_result"
    }
   ],
   "source": [
    "numbers = [1, 3, 3, 7]\n",
    "numbers"
   ]
  },
  {
   "cell_type": "code",
   "execution_count": 30,
   "metadata": {
    "slideshow": {
     "slide_type": "subslide"
    }
   },
   "outputs": [
    {
     "name": "stdout",
     "output_type": "stream",
     "text": [
      "8\n"
     ]
    },
    {
     "data": {
      "text/plain": [
       "list"
      ]
     },
     "execution_count": 30,
     "metadata": {},
     "output_type": "execute_result"
    }
   ],
   "source": [
    "print(numbers[0] + numbers[-1])\n",
    "type(numbers)"
   ]
  },
  {
   "cell_type": "code",
   "execution_count": 17,
   "metadata": {
    "slideshow": {
     "slide_type": "subslide"
    }
   },
   "outputs": [
    {
     "name": "stdout",
     "output_type": "stream",
     "text": [
      "Sp@m\n",
      "@\n"
     ]
    }
   ],
   "source": [
    "L = ['Spam', 'Sp@m', 'beans', 'and', 'eggs', [1, 2, 5]]\n",
    "print(L[1])\n",
    "print(L[1][2])"
   ]
  },
  {
   "cell_type": "code",
   "execution_count": null,
   "metadata": {
    "slideshow": {
     "slide_type": "subslide"
    }
   },
   "outputs": [],
   "source": [
    "## veränderbar:\n",
    "print(L)\n",
    "L[2] = 'Spam'\n",
    "print(L)"
   ]
  },
  {
   "cell_type": "code",
   "execution_count": null,
   "metadata": {
    "scrolled": true,
    "slideshow": {
     "slide_type": "subslide"
    }
   },
   "outputs": [],
   "source": [
    "## Unterschied?\n",
    "L[2] = ['Spam']\n",
    "print(L)"
   ]
  },
  {
   "cell_type": "code",
   "execution_count": 31,
   "metadata": {
    "slideshow": {
     "slide_type": "subslide"
    }
   },
   "outputs": [
    {
     "name": "stdout",
     "output_type": "stream",
     "text": [
      "['Spam', ' Spam', ' beans and eggs']\n"
     ]
    }
   ],
   "source": [
    "## Zerlegung von Strings in Listen\n",
    "s2 = 'Spam, Spam, beans and eggs'\n",
    "print(s2.split(','))"
   ]
  },
  {
   "cell_type": "markdown",
   "metadata": {
    "slideshow": {
     "slide_type": "slide"
    }
   },
   "source": [
    "### Funktionen vs. Methoden\n",
    "\n",
    "Funktionen wird ein Objekt übergeben (Input), an dem sie Operationen druchführen. Als Output erzeugen sie im Regelfall ein neues Objekt. Methoden sind in die Objekte integriert. Sie geben dem Objekt bestimmte Anweisungen, etwas mit sich selbst zu tun. "
   ]
  },
  {
   "cell_type": "code",
   "execution_count": 32,
   "metadata": {
    "slideshow": {
     "slide_type": "subslide"
    }
   },
   "outputs": [
    {
     "data": {
      "text/plain": [
       "[400, 'g', 'a', 1]"
      ]
     },
     "execution_count": 32,
     "metadata": {},
     "output_type": "execute_result"
    }
   ],
   "source": [
    "## Liste sortieren als Funktion:\n",
    "L = [400, 'g', 'a', 1]\n",
    "L"
   ]
  },
  {
   "cell_type": "code",
   "execution_count": 33,
   "metadata": {
    "slideshow": {
     "slide_type": "subslide"
    }
   },
   "outputs": [
    {
     "name": "stdout",
     "output_type": "stream",
     "text": [
      "[400, 1]\n"
     ]
    }
   ],
   "source": [
    "L1 = [L[0], L[-1]]\n",
    "print(L1)"
   ]
  },
  {
   "cell_type": "code",
   "execution_count": 34,
   "metadata": {
    "slideshow": {
     "slide_type": "subslide"
    }
   },
   "outputs": [
    {
     "name": "stdout",
     "output_type": "stream",
     "text": [
      "['g', 'a']\n"
     ]
    }
   ],
   "source": [
    "L2 = [L[1], L[2]]\n",
    "print(L2)"
   ]
  },
  {
   "cell_type": "code",
   "execution_count": 35,
   "metadata": {
    "slideshow": {
     "slide_type": "subslide"
    }
   },
   "outputs": [
    {
     "name": "stdout",
     "output_type": "stream",
     "text": [
      "[1, 400]\n"
     ]
    }
   ],
   "source": [
    "print(sorted(L1))"
   ]
  },
  {
   "cell_type": "code",
   "execution_count": 36,
   "metadata": {},
   "outputs": [
    {
     "name": "stdout",
     "output_type": "stream",
     "text": [
      "['a', 'g']\n"
     ]
    }
   ],
   "source": [
    "print(sorted(L2))"
   ]
  },
  {
   "cell_type": "code",
   "execution_count": null,
   "metadata": {},
   "outputs": [],
   "source": [
    "print(L2)"
   ]
  },
  {
   "cell_type": "code",
   "execution_count": null,
   "metadata": {
    "slideshow": {
     "slide_type": "subslide"
    }
   },
   "outputs": [],
   "source": [
    "## Liste sortieren als Methode:\n",
    "print(L2)\n",
    "L2.sort()\n",
    "print(L2)"
   ]
  },
  {
   "cell_type": "markdown",
   "metadata": {
    "slideshow": {
     "slide_type": "subslide"
    }
   },
   "source": [
    "<br>\n",
    "<br>\n",
    "\n",
    "\n",
    "___\n",
    "\n",
    "                \n",
    "**Kontakt: Carsten Schwemmer** (Webseite: www.carstenschwemmer.com,  Email: c.schwem2er@gmail.com)"
   ]
  }
 ],
 "metadata": {
  "kernelspec": {
   "display_name": "Python 3",
   "language": "python",
   "name": "python3"
  },
  "language_info": {
   "codemirror_mode": {
    "name": "ipython",
    "version": 3
   },
   "file_extension": ".py",
   "mimetype": "text/x-python",
   "name": "python",
   "nbconvert_exporter": "python",
   "pygments_lexer": "ipython3",
   "version": "3.8.8"
  }
 },
 "nbformat": 4,
 "nbformat_minor": 2
}
