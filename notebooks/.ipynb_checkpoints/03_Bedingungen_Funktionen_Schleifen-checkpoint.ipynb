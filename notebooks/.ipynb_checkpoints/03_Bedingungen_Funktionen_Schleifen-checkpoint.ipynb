{
 "cells": [
  {
   "cell_type": "markdown",
   "metadata": {
    "collapsed": true,
    "slideshow": {
     "slide_type": "slide"
    }
   },
   "source": [
    "# 3 - Bedingungen, Funktionen und Schleifen"
   ]
  },
  {
   "cell_type": "markdown",
   "metadata": {
    "slideshow": {
     "slide_type": "subslide"
    }
   },
   "source": [
    "## Bedingungen"
   ]
  },
  {
   "cell_type": "markdown",
   "metadata": {
    "slideshow": {
     "slide_type": "fragment"
    }
   },
   "source": [
    "### `if`\n",
    "\n",
    "\n",
    "`if` prüft eine Bedingung und führt nachfolgende Operationen aus, wenn die Bedingung erfüllt ist.\n",
    "\n",
    "`else` muss nach `if` stehen. Führt Operation aus, wenn das vorangegangene `if` nicht erfüllt wurde.\n",
    "\n",
    "`elif` muss nach `if` und vor `else` (optional) stehen. Prüft eine weitere `if`-Bedingung."
   ]
  },
  {
   "cell_type": "code",
   "execution_count": null,
   "metadata": {
    "slideshow": {
     "slide_type": "subslide"
    }
   },
   "outputs": [],
   "source": [
    "if 7 != 7:\n",
    "    print('Wahr!')\n",
    "else:\n",
    "    print('Falsch!')"
   ]
  },
  {
   "cell_type": "code",
   "execution_count": null,
   "metadata": {
    "slideshow": {
     "slide_type": "subslide"
    }
   },
   "outputs": [],
   "source": [
    "if 1 < 2:\n",
    "    print('Wahr!')\n",
    "else: \n",
    "    print('Falsch!')"
   ]
  },
  {
   "cell_type": "code",
   "execution_count": null,
   "metadata": {
    "slideshow": {
     "slide_type": "subslide"
    }
   },
   "outputs": [],
   "source": [
    "zahl = input('Ganze Zahl eingeben:')\n",
    "\n",
    "if not zahl.isdigit():\n",
    "    print('Keine ganze Zahl!')\n",
    "elif int(zahl) % 2 != 0: #  % = Rest-Operator , int() konvertiert String zu Zahl\n",
    "    print('Ungerade!')\n",
    "else: \n",
    "    print('Gerade!')"
   ]
  },
  {
   "cell_type": "markdown",
   "metadata": {
    "slideshow": {
     "slide_type": "subslide"
    }
   },
   "source": [
    "### Boolsche Ausdrücke\n",
    "\n",
    "* `True` und `False`\n",
    "* `1` und `0`\n",
    "*  `None` ist immer `False`\n",
    "* Leere Objekte (`[]`, `()`, `{}`, etc.) evaluieren immer als `False`\n",
    "\n",
    "Siehe auch [Python Docs](https://docs.python.org/3/library/stdtypes.html#truth-value-testing)"
   ]
  },
  {
   "cell_type": "code",
   "execution_count": null,
   "metadata": {
    "slideshow": {
     "slide_type": "subslide"
    }
   },
   "outputs": [],
   "source": [
    "L = []\n",
    "if L: # Boolsche Abfrage\n",
    "    print(L[0])\n",
    "else: \n",
    "    print('Leere Liste')\n",
    "    L.append(3)\n",
    "print(L)"
   ]
  },
  {
   "cell_type": "markdown",
   "metadata": {
    "slideshow": {
     "slide_type": "subslide"
    }
   },
   "source": [
    "### Übungsaufgabe 1\n",
    "\n",
    "Schreibt ein Programm, dass überprüft ob ein Input String \"spam\" beinhaltet oder nicht. Falls \"spam\" gefunden wurde, soll die Anzahl der \"spam\" Substrings ausgeben. Wird kein \"spam\" gefunden soll ein entsprechender Hinweis ausgedruckt werden. "
   ]
  },
  {
   "cell_type": "code",
   "execution_count": 6,
   "metadata": {
    "slideshow": {
     "slide_type": "subslide"
    }
   },
   "outputs": [
    {
     "name": "stdout",
     "output_type": "stream",
     "text": [
      "['Das', 'ist', 'ein', 'String,', 'in', 'dem', 'es', 'ein', 'spam', 'gibt.']\n",
      "Wahr\n"
     ]
    }
   ],
   "source": [
    "# Code für Übungsaufgabe 1\n",
    "text = 'Das ist ein String, in dem es ein spam gibt.'\n",
    "\n",
    "txt_list = text.split(' ')\n",
    "print(txt_list)\n",
    "\n",
    "if 'spam' in txt_list:\n",
    "    print('Wahr')\n",
    "else:\n",
    "    print('Falsch')"
   ]
  },
  {
   "cell_type": "markdown",
   "metadata": {
    "slideshow": {
     "slide_type": "subslide"
    }
   },
   "source": [
    "### Übungsaufgabe 2 \n",
    "Schreibt ein Programm, dass die Teilbarkeit einer Zahl überprüft. Wenn die Zahl durch 5 und durch 3 teilbar ist, soll das Programm einen entsprechenden Hinweis drucken. Weiterhin soll unterschieden und gedruckt werden, ob die Zahl nur durch 5, nur durch 3, oder weder durch 5 noch 3 teilbar ist.\n",
    "\n",
    "*Input/Output Beispiele*: \n",
    "\n",
    "```    \n",
    "5   --> \"durch 5 teilbar\"\n",
    "15  --> \"durch 5 und durch 3 teilbar\"\n",
    "2   --> \"weder durch 3 noch durch 5 teilbar\"\n",
    "```"
   ]
  },
  {
   "cell_type": "code",
   "execution_count": 15,
   "metadata": {
    "slideshow": {
     "slide_type": "subslide"
    }
   },
   "outputs": [
    {
     "name": "stdout",
     "output_type": "stream",
     "text": [
      "Bitte eine Zahl eingeben: 30\n",
      "durch 5 und durch 3 teilbar\n"
     ]
    }
   ],
   "source": [
    "# Code Übungsaufgabe 2\n",
    "x = float(input('Bitte eine Zahl eingeben: '))\n",
    "\n",
    "x5 = x % 5\n",
    "x3 = x % 3\n",
    "\n",
    "if (x5 == 0):\n",
    "    if (x3 == 0):\n",
    "        print('durch 5 und durch 3 teilbar')\n",
    "    else:\n",
    "        print('durch 5 teilbar')\n",
    "elif (x3 == 0):\n",
    "    print('durch 3 teilbar')\n",
    "else: \n",
    "    print('weder durch 5 noch durch 3 teilbar')"
   ]
  },
  {
   "cell_type": "markdown",
   "metadata": {
    "slideshow": {
     "slide_type": "slide"
    }
   },
   "source": [
    "## Funktionen definieren"
   ]
  },
  {
   "cell_type": "markdown",
   "metadata": {
    "slideshow": {
     "slide_type": "subslide"
    }
   },
   "source": [
    "Funktionen in Python erhalten Input(s) und erzeugen in der Regel nach deren Verarbeitung Output(s). Wenn funktionen einmal im Arbeitsspeicher abgelegt werden, können diese anschließend beliebig häufig wieder verwendet werden:"
   ]
  },
  {
   "cell_type": "code",
   "execution_count": null,
   "metadata": {
    "slideshow": {
     "slide_type": "subslide"
    }
   },
   "outputs": [],
   "source": [
    "def largest_number(input_liste): # name und input\n",
    "    max_number = max(input_liste)\n",
    "    print(len(input_liste))\n",
    "    return max_number"
   ]
  },
  {
   "cell_type": "code",
   "execution_count": null,
   "metadata": {},
   "outputs": [],
   "source": []
  },
  {
   "cell_type": "code",
   "execution_count": 16,
   "metadata": {
    "slideshow": {
     "slide_type": "subslide"
    }
   },
   "outputs": [
    {
     "name": "stdout",
     "output_type": "stream",
     "text": [
      "6\n",
      "4000\n"
     ]
    }
   ],
   "source": [
    "test = largest_number([9, 4, 9, 23, 9, 4000])\n",
    "print(test)"
   ]
  },
  {
   "cell_type": "markdown",
   "metadata": {
    "slideshow": {
     "slide_type": "subslide"
    }
   },
   "source": [
    "Selbstdefinierte Funktionen sind besonders dann nützlich, wenn bestimmte Abläufe mehrmals wiederholt werden - [DRY - Don't repeat yourself!](https://de.wikipedia.org/wiki/Don%E2%80%99t_repeat_yourself)\n",
    "\n",
    "Als Faustregel gilt:  Wenn ein bestimmter Prozess >= 3 mal verwendet werden muss, lohnt es sich dafür eine Funktion zu schreiben."
   ]
  },
  {
   "cell_type": "markdown",
   "metadata": {
    "slideshow": {
     "slide_type": "subslide"
    }
   },
   "source": [
    "### Übungaufgabe 3\n",
    "\n",
    "Schreibe eine Funktion, die für eine Liste mit beliebig vielen Zahlen (Input) das arithmetische Mittel der Zahlen ausgibt (Output). *Hinweis: Funktion* ``sum()`` \n",
    "\n",
    "*Bonusaufgabe: Erstellt eine weitere Funktion für den [Median](https://de.wikipedia.org/wiki/Median).*"
   ]
  },
  {
   "cell_type": "code",
   "execution_count": 53,
   "metadata": {
    "slideshow": {
     "slide_type": "subslide"
    }
   },
   "outputs": [
    {
     "name": "stdout",
     "output_type": "stream",
     "text": [
      "Summe:  856\n",
      "N:  6\n",
      "M:  3.5\n",
      "Arithmetisches Mittel:  142.66666666666666\n",
      "Median 98\n"
     ]
    }
   ],
   "source": [
    "# Code Übungsaufgabe 3\n",
    "def mean(input_mean):\n",
    "    print('Summe: ', sum(input_mean))\n",
    "    print('N: ', len(input_mean))\n",
    "    mean_result = sum(input_mean) / len(input_mean)\n",
    "    return mean_result\n",
    "\n",
    "def median(input_median):\n",
    "    if (len(input_median) % 2) != 0:\n",
    "        median_m = len(input_median) / 2 \n",
    "        print('M: ', median_m)\n",
    "        return input_median[int(median_m)]\n",
    "    else:\n",
    "        half_list = len(input_median) // 2\n",
    "        print(half_list)\n",
    "        #x_m = input_median[len_median - 1]\n",
    "        #x_m1 = input_median[len_median]\n",
    "        #print(f'x_m: {x_m}, x_m1: {x_m1}')\n",
    "        median_m = (input_median[(half_list - 1)] + input_median[half_list]) / 2\n",
    "        return median_m\n",
    "    \n",
    "list_bsp1 = [5, 15, 35, 98, 456, 247, 62]\n",
    "list_bsp = [5, 15, 35, 98, 456, 247]\n",
    "test = mean(list_bsp)\n",
    "test2 = median(list_bsp1)\n",
    "print('Arithmetisches Mittel: ', test)\n",
    "print('Median', test2)"
   ]
  },
  {
   "cell_type": "markdown",
   "metadata": {
    "slideshow": {
     "slide_type": "slide"
    }
   },
   "source": [
    "## Schleifen\n",
    "Anweisung eine Operation entsprechend bestimmter Regeln zu wiederholen. Die Objekte auf die sich die Operation bezieht, können sich dabei verändern.\n",
    "\n",
    "Kommt in zwei Varianten\n",
    "\n",
    "* `while`-Schleife\n",
    "* `for`-Schleife\n",
    "\n",
    "Siehe auch [Python Docs](https://docs.python.org/3/tutorial/controlflow.html)"
   ]
  },
  {
   "cell_type": "markdown",
   "metadata": {
    "slideshow": {
     "slide_type": "subslide"
    }
   },
   "source": [
    "### `while` - Schleifen\n",
    "\n",
    "1. Prüfe Bedingung.\n",
    "2. Wenn (IF) Bedingung wahr:\n",
    "    2. Führe Operation aus.\n",
    "    2. Gehe zu 1.\n",
    "3. Wenn Bedingung nicht erfüllt:\n",
    "    3. Beende Schleife"
   ]
  },
  {
   "cell_type": "markdown",
   "metadata": {
    "slideshow": {
     "slide_type": "subslide"
    }
   },
   "source": [
    "### Beispiel: Die  [Fibonacci-Serie](https://de.wikipedia.org/wiki/Fibonacci-Folge)\n",
    "\n",
    "$$  \n",
    "f_n =\n",
    "\\begin{cases}\n",
    "f_n = n,  & \\text{if $n \\le 2$} \\\\\n",
    "f_{n-1} + f_{n-2}, & \\text{if $n \\gt 2$}\n",
    "\\end{cases} \n",
    "$$\n",
    "\n",
    "$f = 0, 1, 1, 2, 3, 5, 8, 13, \\dots$"
   ]
  },
  {
   "cell_type": "code",
   "execution_count": 54,
   "metadata": {
    "slideshow": {
     "slide_type": "fragment"
    }
   },
   "outputs": [
    {
     "name": "stdout",
     "output_type": "stream",
     "text": [
      "[0, 1, 1, 2, 3, 5, 8, 13, 21, 34, 55, 89, 144, 233, 377, 610, 987, 1597, 2584, 4181, 6765, 10946, 17711, 28657, 46368, 75025, 121393, 196418, 317811, 514229, 832040, 1346269]\n"
     ]
    }
   ],
   "source": [
    "def fibonacci(stop):  #  Input: Stopkriterium\n",
    "    L = []\n",
    "    a, b = 0, 1 \n",
    "    while a < stop:\n",
    "        L.append(a)\n",
    "        a, b = b, a + b\n",
    "    return L # Output: Liste der Fibonacci-Serie\n",
    "\n",
    "sequenz = fibonacci(2000000)\n",
    "print(sequenz)"
   ]
  },
  {
   "cell_type": "markdown",
   "metadata": {
    "slideshow": {
     "slide_type": "subslide"
    }
   },
   "source": [
    "**Achtung**: `while` Schleifen können *unendlich* lange laufen, wenn die zu überprüfende Eingangsbedingung nie als `False` evaluiert wird:"
   ]
  },
  {
   "cell_type": "code",
   "execution_count": null,
   "metadata": {
    "slideshow": {
     "slide_type": "fragment"
    }
   },
   "outputs": [],
   "source": [
    "i = 5\n",
    "while i > 0:\n",
    "    print(i)\n",
    "    print(\"Zwei mal 'i' drücken um das Programm abzubrechen!\")"
   ]
  },
  {
   "cell_type": "markdown",
   "metadata": {
    "slideshow": {
     "slide_type": "subslide"
    }
   },
   "source": [
    "Falls ein Notebook abstürzen sollte oder die Ausführung einer Zelle zu lange dauert, können Berechnungen über die Menüführung mit **Kernel -> Interrupt** unterbrochen werden bzw. über **Kernel -> Restart** das Notebook neugestartet werden. Bei einem Neustart müssen  sämtliche Berechnungen neu durchgeführt werden."
   ]
  },
  {
   "cell_type": "markdown",
   "metadata": {
    "slideshow": {
     "slide_type": "subslide"
    }
   },
   "source": [
    "## `for` - Schleifen\n",
    "\n",
    "`for` Schleifen zählen zu den nützlichsten Tools für die Verarbeitung von Daten. Das Grundprinzip:\n",
    "\n",
    "Für jedes Element einer Sequenz:\n",
    "    1. Führe Operation aus\n",
    "    2. Rufe nächstes Element\n",
    "    3. Wenn kein weiteres Element:\n",
    "           Beende Schleife.\n",
    "    4. Sonst:\n",
    "           Gehe zu 1.\n"
   ]
  },
  {
   "cell_type": "code",
   "execution_count": 58,
   "metadata": {
    "slideshow": {
     "slide_type": "subslide"
    }
   },
   "outputs": [
    {
     "name": "stdout",
     "output_type": "stream",
     "text": [
      "1\n",
      "2\n",
      "3\n"
     ]
    }
   ],
   "source": [
    "for element in [1, 2, 3]:\n",
    "    print(element)"
   ]
  },
  {
   "cell_type": "markdown",
   "metadata": {
    "slideshow": {
     "slide_type": "subslide"
    }
   },
   "source": [
    "Über eine `for` Schleife durch eine Liste mit Wörtern gehen und die Häufigkeit jedes Wortes zurück geben:"
   ]
  },
  {
   "cell_type": "code",
   "execution_count": 56,
   "metadata": {
    "slideshow": {
     "slide_type": "fragment"
    }
   },
   "outputs": [
    {
     "name": "stdout",
     "output_type": "stream",
     "text": [
      "Well, there's egg and bacon; egg sausage and bacon;\n",
      "egg and spam; egg bacon and spam; egg bacon sausage and spam; spam bacon sausage and spam;\n",
      "spam egg spam spam bacon and spam; spam sausage spam spam bacon spam tomato and spam;\n"
     ]
    }
   ],
   "source": [
    "spamskit = '''Well, there's egg and bacon; egg sausage and bacon;\n",
    "egg and spam; egg bacon and spam; egg bacon sausage and spam; spam bacon sausage and spam;\n",
    "spam egg spam spam bacon and spam; spam sausage spam spam bacon spam tomato and spam;'''\n",
    "print(spamskit)"
   ]
  },
  {
   "cell_type": "code",
   "execution_count": 60,
   "metadata": {
    "slideshow": {
     "slide_type": "fragment"
    }
   },
   "outputs": [
    {
     "name": "stdout",
     "output_type": "stream",
     "text": [
      "['Well,', \"there's\", 'egg', 'and', 'bacon;', 'egg', 'sausage', 'and', 'bacon;', 'egg', 'and', 'spam;', 'egg', 'bacon', 'and', 'spam;', 'egg', 'bacon', 'sausage', 'and', 'spam;', 'spam', 'bacon', 'sausage', 'and', 'spam;', 'spam', 'egg', 'spam', 'spam', 'bacon', 'and', 'spam;', 'spam', 'sausage', 'spam', 'spam', 'bacon', 'spam', 'tomato', 'and', 'spam;']\n",
      "{\"there's\", 'egg', 'spam;', 'spam', 'Well,', 'sausage', 'bacon;', 'bacon', 'and', 'tomato'}\n"
     ]
    }
   ],
   "source": [
    "# Strings die über ''' geöffnet und geschlossen werden, dürfen Zeilenumbrüche beinhalten\n",
    "tokens = spamskit.split()\n",
    "print(tokens)\n",
    "print(set(tokens))"
   ]
  },
  {
   "cell_type": "code",
   "execution_count": 59,
   "metadata": {
    "slideshow": {
     "slide_type": "fragment"
    }
   },
   "outputs": [
    {
     "name": "stdout",
     "output_type": "stream",
     "text": [
      "42\n",
      "10\n"
     ]
    }
   ],
   "source": [
    "print(len(tokens))\n",
    "print(len(set(tokens))) # Sets sind Mengen und eliminieren Dopplungen in Objekten"
   ]
  },
  {
   "cell_type": "code",
   "execution_count": 61,
   "metadata": {
    "scrolled": false,
    "slideshow": {
     "slide_type": "subslide"
    }
   },
   "outputs": [
    {
     "name": "stdout",
     "output_type": "stream",
     "text": [
      "there's 1\n",
      "egg 6\n",
      "spam; 6\n",
      "spam 8\n",
      "Well, 1\n",
      "sausage 4\n",
      "bacon; 2\n",
      "bacon 5\n",
      "and 8\n",
      "tomato 1\n"
     ]
    }
   ],
   "source": [
    "## Häufigkeit der Wörter ausgeben:\n",
    "for token in set(tokens):\n",
    "    print(token, tokens.count(token))"
   ]
  },
  {
   "cell_type": "markdown",
   "metadata": {
    "slideshow": {
     "slide_type": "subslide"
    }
   },
   "source": [
    "### Übungsaufgabe 4\n",
    "\n",
    "Schreibt ein Programm, dass für eine Liste, die ganze Zahlen beinhaltet, für jede gerade Zahl das Quadrat der Zahl und jede ungerade Zahl unverändert ausgibt. \n",
    "\n",
    "4 -> quadrat(4)    \n",
    "5 -> 5"
   ]
  },
  {
   "cell_type": "code",
   "execution_count": 72,
   "metadata": {
    "slideshow": {
     "slide_type": "subslide"
    }
   },
   "outputs": [
    {
     "name": "stdout",
     "output_type": "stream",
     "text": [
      "[4, 5, 25, 36, 154, 325]\n",
      "[16, 5, 625, 36, 23716, 325]\n"
     ]
    }
   ],
   "source": [
    "# Code für Übungsaufgabe 4\n",
    "\n",
    "x_list = [4, 5, 25, 36, 154, 325]\n",
    "print(x_list)\n",
    "\n",
    "for i in range(len(x_list)):\n",
    "    if (i % 2) == 0:\n",
    "        x_list[i] = pow(x_list[i], 2)\n",
    "    else:\n",
    "        continue\n",
    "\n",
    "print(x_list)\n"
   ]
  },
  {
   "cell_type": "markdown",
   "metadata": {
    "slideshow": {
     "slide_type": "subslide"
    }
   },
   "source": [
    "### Übungsaufgabe 5\n",
    "\n",
    "Schreibt eine Funktion, welcher als Input ein String übergeben wird. Als Output soll die Funktion eine Liste mit allen Wörtern (in lowercase) des Strings ohne Sonderzeichen enthalten. *Hinweis: Methode .isalpha() prüft, ob ein String ausschließlich alphabetische Zeichen enthält.* \n",
    "\n",
    "*Input/Output Beispiel*: \n",
    "\n",
    "```    \n",
    "Input: \"Only 10 kinds of people €xist in th3 world: \n",
    "Th0se wh0 underst@nd binary and th0se wh0 d0 not!\" \n",
    "\n",
    "Output: [\"only\", \"kinds\", \"of\", \"people\", \"in\", \"binary\", \"and\"]\n",
    "```\n"
   ]
  },
  {
   "cell_type": "code",
   "execution_count": 77,
   "metadata": {
    "scrolled": true,
    "slideshow": {
     "slide_type": "subslide"
    }
   },
   "outputs": [
    {
     "name": "stdout",
     "output_type": "stream",
     "text": [
      "Text:  Only 10 kinds of people €xist in th3 world: \n",
      "Th0se wh0 underst@nd binary and th0se wh0 d0 not!\n",
      "Tokens:  ['Only', '10', 'kinds', 'of', 'people', '€xist', 'in', 'th3', 'world:', 'Th0se', 'wh0', 'underst@nd', 'binary', 'and', 'th0se', 'wh0', 'd0', 'not!']\n",
      "Neuer Text:  ['Only', 'kinds', 'of', 'people', 'in', 'binary', 'and']\n"
     ]
    }
   ],
   "source": [
    "# Code für Übungsaufgabe 5\n",
    "\n",
    "text = \"\"\"Only 10 kinds of people €xist in th3 world: \n",
    "Th0se wh0 underst@nd binary and th0se wh0 d0 not!\"\"\"\n",
    "print('Text: ', text)\n",
    "tokens = text.split()\n",
    "print('Tokens: ', tokens)\n",
    "text_neu = []\n",
    "\n",
    "for i in range(len(tokens)):\n",
    "    if tokens[i].isalpha():\n",
    "        text_neu.append(tokens[i])\n",
    "        \n",
    "print('Neuer Text: ', text_neu)"
   ]
  },
  {
   "cell_type": "markdown",
   "metadata": {
    "slideshow": {
     "slide_type": "subslide"
    }
   },
   "source": [
    "<br>\n",
    "<br>\n",
    "\n",
    "\n",
    "___\n",
    "\n",
    "                \n",
    "**Kontakt: Carsten Schwemmer** (Webseite: www.carstenschwemmer.com,  Email: c.schwem2er@gmail.com)"
   ]
  }
 ],
 "metadata": {
  "kernelspec": {
   "display_name": "Python 3",
   "language": "python",
   "name": "python3"
  },
  "language_info": {
   "codemirror_mode": {
    "name": "ipython",
    "version": 3
   },
   "file_extension": ".py",
   "mimetype": "text/x-python",
   "name": "python",
   "nbconvert_exporter": "python",
   "pygments_lexer": "ipython3",
   "version": "3.8.8"
  }
 },
 "nbformat": 4,
 "nbformat_minor": 2
}
