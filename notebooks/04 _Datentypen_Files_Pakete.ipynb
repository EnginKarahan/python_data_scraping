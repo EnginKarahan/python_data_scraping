{
 "cells": [
  {
   "cell_type": "markdown",
   "metadata": {
    "slideshow": {
     "slide_type": "slide"
    }
   },
   "source": [
    "# Weitere Datentypen, Files und Python Pakete"
   ]
  },
  {
   "cell_type": "markdown",
   "metadata": {
    "slideshow": {
     "slide_type": "subslide"
    }
   },
   "source": [
    "## List Comprehensions\n",
    "\n",
    "`for`-Schleifen können auch in Form von *List Comprehensions* geschrieben werden. Dies stellt oft eine nachvollziehbarere Schreibweise dar:\n",
    "\n",
    "`[i for i in x]`"
   ]
  },
  {
   "cell_type": "code",
   "execution_count": 1,
   "metadata": {
    "scrolled": false,
    "slideshow": {
     "slide_type": "fragment"
    }
   },
   "outputs": [
    {
     "name": "stdout",
     "output_type": "stream",
     "text": [
      "[1, 4, 9, 16, 25, 36, 49, 64, 81]\n"
     ]
    }
   ],
   "source": [
    "input_list = []\n",
    "for number in range(1, 10): # von 1 (inklusive) bis 10 (exklusive)\n",
    "    input_list.append(number ** 2)\n",
    "print(input_list)"
   ]
  },
  {
   "cell_type": "code",
   "execution_count": 2,
   "metadata": {
    "slideshow": {
     "slide_type": "fragment"
    }
   },
   "outputs": [
    {
     "data": {
      "text/plain": [
       "[1, 4, 9, 16, 25, 36, 49, 64, 81]"
      ]
     },
     "execution_count": 2,
     "metadata": {},
     "output_type": "execute_result"
    }
   ],
   "source": [
    "new = [x ** 2 for x in range(1, 10)]\n",
    "new"
   ]
  },
  {
   "cell_type": "markdown",
   "metadata": {
    "slideshow": {
     "slide_type": "subslide"
    }
   },
   "source": [
    "List Comprehensions können auch mit Bedingungen versehen werden:    \n",
    "`[i for i in x if Bedingung]`"
   ]
  },
  {
   "cell_type": "code",
   "execution_count": 3,
   "metadata": {
    "slideshow": {
     "slide_type": "fragment"
    }
   },
   "outputs": [
    {
     "data": {
      "text/plain": [
       "['1', '9', '25', '49', '81']"
      ]
     },
     "execution_count": 3,
     "metadata": {},
     "output_type": "execute_result"
    }
   ],
   "source": [
    "test = [str(x ** 2) for x in range(1, 10) if x % 2 != 0]\n",
    "test"
   ]
  },
  {
   "cell_type": "markdown",
   "metadata": {
    "slideshow": {
     "slide_type": "subslide"
    }
   },
   "source": [
    "Über List Comprehensions und die String-Funktion `join()` können z.B. auch mehrere String Elemente aus einer Liste in einen einzelnen String überführt werden:"
   ]
  },
  {
   "cell_type": "code",
   "execution_count": 4,
   "metadata": {
    "slideshow": {
     "slide_type": "fragment"
    }
   },
   "outputs": [
    {
     "name": "stdout",
     "output_type": "stream",
     "text": [
      "#SPAM, #BACON, #EGGS\n"
     ]
    }
   ],
   "source": [
    "many_strings = ['#spam', '#bacon', '#eggs']\n",
    "one_string = ', '.join([s.upper() for s\n",
    "                        in many_strings])\n",
    "print(one_string)"
   ]
  },
  {
   "cell_type": "markdown",
   "metadata": {
    "slideshow": {
     "slide_type": "subslide"
    }
   },
   "source": [
    "## Datentyp: [Tupel](https://docs.python.org/3.3/tutorial/datastructures.html#tuples-and-sequences)\n",
    "\n",
    "Unveränderliche Sequenzen beliebiger Objekte, werden mit `(` eingeleitet und mit `)` geschlossen. Tupel haben alle Eigenschaften von Listen, sind allerdings wie Strings *immutable*."
   ]
  },
  {
   "cell_type": "code",
   "execution_count": 5,
   "metadata": {
    "slideshow": {
     "slide_type": "fragment"
    }
   },
   "outputs": [
    {
     "name": "stdout",
     "output_type": "stream",
     "text": [
      "2\n"
     ]
    },
    {
     "data": {
      "text/plain": [
       "tuple"
      ]
     },
     "execution_count": 5,
     "metadata": {},
     "output_type": "execute_result"
    }
   ],
   "source": [
    "tupel = (2, 3)\n",
    "print(tupel[0])\n",
    "type(tupel)"
   ]
  },
  {
   "cell_type": "markdown",
   "metadata": {
    "slideshow": {
     "slide_type": "subslide"
    }
   },
   "source": [
    "### Iteration mit Listen-von-Tupeln\n",
    "\n",
    "Erlaubt es synchron über mehrere gleich lange Sequenzen zu iterieren. Dazu müssen diese in eine Liste von Tupeln transferiert werden. Dies geschieht über die `zip()` Funktion."
   ]
  },
  {
   "cell_type": "code",
   "execution_count": 6,
   "metadata": {
    "slideshow": {
     "slide_type": "fragment"
    }
   },
   "outputs": [
    {
     "name": "stdout",
     "output_type": "stream",
     "text": [
      "[(1988, 'Seoul'), (1964, 'Tokio'), (1912, 'Stockholm'), (1996, 'Atlanta'), (2008, 'Peking'), (1976, 'Montreal')]\n"
     ]
    }
   ],
   "source": [
    "L1 = [1988, 1964, 1912, 1996, 2008, 1976]\n",
    "L2 = ['Seoul', 'Tokio', 'Stockholm', 'Atlanta', 'Peking', 'Montreal']\n",
    "\n",
    "\n",
    "lot = list(zip(L1, L2)) # erzeugt Liste aus Tupeln des gezippten Objekts\n",
    "print(lot)"
   ]
  },
  {
   "cell_type": "markdown",
   "metadata": {
    "slideshow": {
     "slide_type": "subslide"
    }
   },
   "source": [
    "Bei der Sortierung von Tupeln verwendet Python standardmäßig das jeweils erste Element:"
   ]
  },
  {
   "cell_type": "code",
   "execution_count": 7,
   "metadata": {
    "slideshow": {
     "slide_type": "fragment"
    }
   },
   "outputs": [
    {
     "name": "stdout",
     "output_type": "stream",
     "text": [
      "[(1988, 'Seoul'), (1964, 'Tokio'), (1912, 'Stockholm'), (1996, 'Atlanta'), (2008, 'Peking'), (1976, 'Montreal')]\n"
     ]
    }
   ],
   "source": [
    "print(lot)"
   ]
  },
  {
   "cell_type": "code",
   "execution_count": 8,
   "metadata": {
    "slideshow": {
     "slide_type": "fragment"
    }
   },
   "outputs": [
    {
     "name": "stdout",
     "output_type": "stream",
     "text": [
      "[(1912, 'Stockholm'), (1964, 'Tokio'), (1976, 'Montreal'), (1988, 'Seoul'), (1996, 'Atlanta'), (2008, 'Peking')]\n"
     ]
    }
   ],
   "source": [
    "print(sorted(lot))"
   ]
  },
  {
   "cell_type": "code",
   "execution_count": 11,
   "metadata": {
    "slideshow": {
     "slide_type": "fragment"
    }
   },
   "outputs": [
    {
     "name": "stdout",
     "output_type": "stream",
     "text": [
      "o\n"
     ]
    }
   ],
   "source": [
    "type(lot[1][1][1]) # von welchem element wird hier der typ abgefragt?\n",
    "print(lot[1][1][1])"
   ]
  },
  {
   "cell_type": "markdown",
   "metadata": {
    "slideshow": {
     "slide_type": "subslide"
    }
   },
   "source": [
    "## Datentyp: [Diktionäre](https://docs.python.org/3.3/tutorial/datastructures.html#dictionaries)\n",
    "\n",
    "- Neben Listen sind Diktionäre die wichtigsten Datencontainer im Python, da das im Web häufig verwendete Datenformat JSON direkt in Python Diktionäre überführt werden kann.\n",
    "- Diktionäre sind ungeordnete Sammlungen von Elementen die jeweils über einen einzigartigen Schlüssel angesprochen werden können. Diktionäre werden mit `{` geöffnet und mit `}` geschlossen. `key-value` Paare bestehen jeweils aus einem Schlüssel und dem dazugehörigen Wert, beides wird mit `:` von einander getrennt.\n",
    "\n",
    "`D = {key1: value1, key2: value2, ...}`"
   ]
  },
  {
   "cell_type": "code",
   "execution_count": 12,
   "metadata": {
    "slideshow": {
     "slide_type": "subslide"
    }
   },
   "outputs": [
    {
     "name": "stdout",
     "output_type": "stream",
     "text": [
      "{'1988': 'Seoul', '2008': ['Peking', 5], 1988: 'Seoul'}\n"
     ]
    },
    {
     "data": {
      "text/plain": [
       "dict"
      ]
     },
     "execution_count": 12,
     "metadata": {},
     "output_type": "execute_result"
    }
   ],
   "source": [
    "D = {'1988': 'Seoul', '2008': ['Peking', 5], 1988: 'Seoul'}\n",
    "print(D)\n",
    "type(D)"
   ]
  },
  {
   "cell_type": "code",
   "execution_count": 13,
   "metadata": {
    "slideshow": {
     "slide_type": "subslide"
    }
   },
   "outputs": [
    {
     "name": "stdout",
     "output_type": "stream",
     "text": [
      "['Peking', 5]\n"
     ]
    }
   ],
   "source": [
    "print(D['2008'])"
   ]
  },
  {
   "cell_type": "code",
   "execution_count": 14,
   "metadata": {
    "slideshow": {
     "slide_type": "subslide"
    }
   },
   "outputs": [
    {
     "name": "stdout",
     "output_type": "stream",
     "text": [
      "{'1988': 'Seoul', '2008': ['Peking', 5], 1988: 'neuer value'}\n"
     ]
    }
   ],
   "source": [
    "D[1988] = 'neuer value'\n",
    "print(D)"
   ]
  },
  {
   "cell_type": "code",
   "execution_count": 15,
   "metadata": {
    "scrolled": true,
    "slideshow": {
     "slide_type": "subslide"
    }
   },
   "outputs": [
    {
     "name": "stdout",
     "output_type": "stream",
     "text": [
      "1988 Seoul\n",
      "2008 ['Peking', 5]\n",
      "1988 neuer value\n"
     ]
    }
   ],
   "source": [
    "for key in D.keys():\n",
    "    print(key, D[key])"
   ]
  },
  {
   "cell_type": "markdown",
   "metadata": {
    "slideshow": {
     "slide_type": "subslide"
    }
   },
   "source": [
    "Diktionäre können - ebenso wie Listen - mehrere Hierarchieebenen \"tief\" geschachtelt sein:"
   ]
  },
  {
   "cell_type": "code",
   "execution_count": 16,
   "metadata": {
    "slideshow": {
     "slide_type": "fragment"
    }
   },
   "outputs": [],
   "source": [
    "nested = {'structured': {'spreadsheets': 'flat', 'json': 'tree'},\n",
    "          'unstructured':  [{'type': 'natural language', 'format': 'txt'}, \n",
    "                              {'type' : 'image', 'format': 'png'}]}"
   ]
  },
  {
   "cell_type": "code",
   "execution_count": 17,
   "metadata": {
    "slideshow": {
     "slide_type": "fragment"
    }
   },
   "outputs": [
    {
     "name": "stdout",
     "output_type": "stream",
     "text": [
      "tree\n"
     ]
    }
   ],
   "source": [
    "print(nested['structured']['json'])"
   ]
  },
  {
   "cell_type": "code",
   "execution_count": 21,
   "metadata": {
    "slideshow": {
     "slide_type": "fragment"
    }
   },
   "outputs": [
    {
     "name": "stdout",
     "output_type": "stream",
     "text": [
      "natural language\n"
     ]
    }
   ],
   "source": [
    "print(nested['unstructured'][0]['type'])    "
   ]
  },
  {
   "cell_type": "markdown",
   "metadata": {
    "slideshow": {
     "slide_type": "subslide"
    }
   },
   "source": [
    "## Übungsaufgabe 1\n",
    "\n",
    "Schreibt Python Code (z.B: mit Hilfe einer for-Schleife) um euch für alle `unstructured` Elemente aus dem obigen Diktionär den zugehörigen `type` auszugeben."
   ]
  },
  {
   "cell_type": "code",
   "execution_count": 27,
   "metadata": {
    "slideshow": {
     "slide_type": "fragment"
    }
   },
   "outputs": [
    {
     "name": "stdout",
     "output_type": "stream",
     "text": [
      "natural language\n",
      "image\n"
     ]
    }
   ],
   "source": [
    "# Code für Übungsaufgabe 1\n",
    "for i in range(len(nested['unstructured'])):\n",
    "    print(nested['unstructured'][i]['type'])"
   ]
  },
  {
   "cell_type": "markdown",
   "metadata": {
    "slideshow": {
     "slide_type": "subslide"
    }
   },
   "source": [
    "### Übungsaufgabe 2\n",
    "\n",
    "Erstellt ein Diktionär, dessen `keys` die id's  der nachfolgenden Tweets darstellen sollte. Als `values` zu den Keys sollen alle Hashtag Strings des jeweiligen Tweets in einer Liste enthalten sein. *Bonus: Definiert eine Funktion zur Lösung der Aufgabe.*\n",
    "\n",
    "https://twitter.com/BMBF_Bund/status/1199976385621692416    \n",
    "https://twitter.com/WHO/status/1257937948424757248  \n",
    "\n",
    "Lösungsbeispiel:\n",
    "```\n",
    "{'1199976385621692416': ['#openaccess', '#BMBF', '#Wissenschaft', '#OA', '#podcast'],\n",
    " '1257937948424757248': ['#COVID19', '#HealthForAll', '#coronavirus']}\n",
    "```"
   ]
  },
  {
   "cell_type": "code",
   "execution_count": 7,
   "metadata": {
    "slideshow": {
     "slide_type": "skip"
    }
   },
   "outputs": [],
   "source": [
    "tweets = [\n",
    "      { # tweet 1\n",
    "        'created_at': 'Thu Nov 28 09:00:39 +0000 2019',\n",
    "        'favorite_count': 283,\n",
    "        'full_text': 'Reden wir offen ... über #openaccess! \\nUnd zwar in unserer Podcast-Mini-Serie. In der ersten Folge spricht Radiomoderator Holger Klein mit der Chemikerin Mai Thi Nguyen-Kim @maithi_nk. Jetzt hier reinhören 🎧: https://t.co/aRRo23c0t0\\n@wrint_de #BMBF #Wissenschaft #OA #podcast https://t.co/EzyqBc4WAK',\n",
    "        'hashtags': [{\n",
    "            'text': 'openaccess'\n",
    "          },\n",
    "          {\n",
    "            'text': 'BMBF'\n",
    "          },\n",
    "          {\n",
    "            'text': 'Wissenschaft'\n",
    "          },\n",
    "          {\n",
    "            'text': 'OA'\n",
    "          },\n",
    "          {\n",
    "            'text': 'podcast'\n",
    "          }\n",
    "        ],\n",
    "        'id': 1199976385621692416, # id 1\n",
    "        'id_str': '1199976385621692416',\n",
    "        'lang': 'de',\n",
    "        'media': [{\n",
    "          'display_url': 'pic.twitter.com/EzyqBc4WAK',\n",
    "          'expanded_url': 'https://twitter.com/BMBF_Bund/status/1199976385621692416/photo/1',\n",
    "          'id': 1199976381893005314,\n",
    "          'media_url': 'http://pbs.twimg.com/media/EKcsKV2XUAIvNj6.jpg',\n",
    "          'media_url_https': 'https://pbs.twimg.com/media/EKcsKV2XUAIvNj6.jpg',\n",
    "          'sizes': {\n",
    "            'small': {\n",
    "              'w': 680,\n",
    "              'h': 453,\n",
    "              'resize': 'fit'\n",
    "            },\n",
    "            'thumb': {\n",
    "              'w': 150,\n",
    "              'h': 150,\n",
    "              'resize': 'crop'\n",
    "            },\n",
    "            'medium': {\n",
    "              'w': 1200,\n",
    "              'h': 799,\n",
    "              'resize': 'fit'\n",
    "            },\n",
    "            'large': {\n",
    "              'w': 2048,\n",
    "              'h': 1363,\n",
    "              'resize': 'fit'\n",
    "            }\n",
    "          },\n",
    "          'type': 'photo',\n",
    "          'url': 'https://t.co/EzyqBc4WAK'\n",
    "        }],\n",
    "        'retweet_count': 73,\n",
    "        'source': '<a href=\"https://www.hootsuite.com\" rel=\"nofollow\">Hootsuite Inc.</a>',\n",
    "        'urls': [{\n",
    "          'expanded_url': 'http://ow.ly/xymW50xmNGj',\n",
    "          'url': 'https://t.co/aRRo23c0t0'\n",
    "        }],\n",
    "        'user': {\n",
    "          'created_at': 'Fri Jan 09 13:29:16 +0000 2015',\n",
    "          'default_profile': True,\n",
    "          'description': 'Hier twittert die Social-Media-Redaktion des Bundesministeriums für Bildung und Forschung - https://t.co/UqNZkLfa5s',\n",
    "          'favourites_count': 3803,\n",
    "          'followers_count': 48480,\n",
    "          'friends_count': 650,\n",
    "          'geo_enabled': True,\n",
    "          'id': 2969727718,\n",
    "          'id_str': '2969727718',\n",
    "          'listed_count': 596,\n",
    "          'location': 'Berlin',\n",
    "          'name': 'BMBF',\n",
    "          'screen_name': 'BMBF_Bund',\n",
    "          'statuses_count': 9852,\n",
    "          'url': 'https://t.co/swEZR6KkpA',\n",
    "          'verified': True\n",
    "        },\n",
    "        'user_mentions': [{\n",
    "            'id': 1094849342,\n",
    "            'id_str': '1094849342',\n",
    "            'name': 'Mai Thi Nguyen-Kim',\n",
    "            'screen_name': 'maithi_nk'\n",
    "          },\n",
    "          {\n",
    "            'id': 303342452,\n",
    "            'id_str': '303342452',\n",
    "            'name': 'WRINT',\n",
    "            'screen_name': 'wrint_de'\n",
    "          }\n",
    "        ]\n",
    "      },\n",
    "\n",
    "      { # tweet 2\n",
    "        'created_at': 'Wed May 06 07:39:12 +0000 2020',\n",
    "        'favorite_count': 750,\n",
    "        'full_text': 'In a little over 3 months, #COVID19 has changed the world in so many ways, bringing us closer together and reaffirming the importance of #HealthForAll.\\nThis video shows the key moments so far as WHO works with partners worldwide to fight #coronavirus and save lives. https://t.co/oYQV4DPbxa',\n",
    "        'hashtags': [{\n",
    "            'text': 'COVID19'\n",
    "          },\n",
    "          {\n",
    "            'text': 'HealthForAll'\n",
    "          },\n",
    "          {\n",
    "            'text': 'coronavirus'\n",
    "          }\n",
    "        ],\n",
    "        'id': 1257937948424757248, # id 2\n",
    "        'id_str': '1257937948424757248',\n",
    "        'lang': 'en',\n",
    "        'media': [{\n",
    "          'display_url': 'pic.twitter.com/oYQV4DPbxa',\n",
    "          'expanded_url': 'https://twitter.com/WHO/status/1257937948424757248/video/1',\n",
    "          'id': 1257937273561190400,\n",
    "          'media_url': 'http://pbs.twimg.com/amplify_video_thumb/1257937273561190400/img/JvLTmXi97KVXwviA.jpg',\n",
    "          'media_url_https': 'https://pbs.twimg.com/amplify_video_thumb/1257937273561190400/img/JvLTmXi97KVXwviA.jpg',\n",
    "          'sizes': {\n",
    "            'thumb': {\n",
    "              'w': 150,\n",
    "              'h': 150,\n",
    "              'resize': 'crop'\n",
    "            },\n",
    "            'medium': {\n",
    "              'w': 1200,\n",
    "              'h': 675,\n",
    "              'resize': 'fit'\n",
    "            },\n",
    "            'small': {\n",
    "              'w': 680,\n",
    "              'h': 383,\n",
    "              'resize': 'fit'\n",
    "            },\n",
    "            'large': {\n",
    "              'w': 1280,\n",
    "              'h': 720,\n",
    "              'resize': 'fit'\n",
    "            }\n",
    "          },\n",
    "          'type': 'video',\n",
    "          'url': 'https://t.co/oYQV4DPbxa',\n",
    "          'video_info': {\n",
    "            'aspect_ratio': [16, 9],\n",
    "            'duration_millis': 325600,\n",
    "            'variants': [{\n",
    "                'bitrate': 288000,\n",
    "                'content_type': 'video/mp4',\n",
    "                'url': 'https://video.twimg.com/amplify_video/1257937273561190400/vid/480x270/Qp6JiURxItBa9H6c.mp4?tag=13'\n",
    "              },\n",
    "              {\n",
    "                'bitrate': 832000,\n",
    "                'content_type': 'video/mp4',\n",
    "                'url': 'https://video.twimg.com/amplify_video/1257937273561190400/vid/640x360/nqIWSKAqarkV9xRw.mp4?tag=13'\n",
    "              },\n",
    "              {\n",
    "                'content_type': 'application/x-mpegURL',\n",
    "                'url': 'https://video.twimg.com/amplify_video/1257937273561190400/pl/JUsDgAz2USLHj8JK.m3u8?tag=13'\n",
    "              },\n",
    "              {\n",
    "                'bitrate': 2176000,\n",
    "                'content_type': 'video/mp4',\n",
    "                'url': 'https://video.twimg.com/amplify_video/1257937273561190400/vid/1280x720/frWD4cpJVdQsBDDH.mp4?tag=13'\n",
    "              }\n",
    "            ]\n",
    "          }\n",
    "        }],\n",
    "        'retweet_count': 324,\n",
    "        'source': '<a href=\"https://studio.twitter.com\" rel=\"nofollow\">Twitter Media Studio</a>',\n",
    "        'urls': [],\n",
    "        'user': {\n",
    "          'created_at': 'Wed Apr 23 19:56:27 +0000 2008',\n",
    "          'description': 'We are the #UnitedNations’ health agency. We are committed to achieving better health for everyone, everywhere - #HealthForAll',\n",
    "          'favourites_count': 10673,\n",
    "          'followers_count': 7692786,\n",
    "          'friends_count': 1719,\n",
    "          'geo_enabled': True,\n",
    "          'id': 14499829,\n",
    "          'id_str': '14499829',\n",
    "          'listed_count': 32284,\n",
    "          'location': 'Geneva, Switzerland',\n",
    "          'name': 'World Health Organization (WHO)',\n",
    "          'screen_name': 'WHO',\n",
    "          'statuses_count': 50956,\n",
    "          'url': 'https://t.co/wVulKuROWG',\n",
    "          'verified': True\n",
    "        },\n",
    "        'user_mentions': []\n",
    "      }]"
   ]
  },
  {
   "cell_type": "code",
   "execution_count": 8,
   "metadata": {
    "scrolled": true,
    "slideshow": {
     "slide_type": "subslide"
    }
   },
   "outputs": [
    {
     "name": "stdout",
     "output_type": "stream",
     "text": [
      "range(0, 2)\n",
      "{1199976385621692416: ['openaccess', 'BMBF', 'Wissenschaft', 'OA', 'podcast', 'COVID19', 'HealthForAll', 'coronavirus'], 1257937948424757248: ['openaccess', 'BMBF', 'Wissenschaft', 'OA', 'podcast', 'COVID19', 'HealthForAll', 'coronavirus']}\n"
     ]
    }
   ],
   "source": [
    "# Code Übungsaufgabe 2\n",
    "\n",
    "def give_hash(twiit):\n",
    "    ergebnis = {}\n",
    "    hash = []\n",
    "    print(range(len(tweets)))\n",
    "    for i in range(len(tweets)):           # durchläuft die einzelnen Tweets\n",
    "        id = tweets[i]['id']\n",
    "        for j in range(len(tweets[i]['hashtags'])):\n",
    "            hash.append(tweets[i]['hashtags'][j]['text'])\n",
    "        ergebnis[id] = hash\n",
    "    return ergebnis\n",
    "\n",
    "print(give_hash(tweets))\n",
    "\n"
   ]
  },
  {
   "cell_type": "markdown",
   "metadata": {
    "slideshow": {
     "slide_type": "slide"
    }
   },
   "source": [
    "## Files (I/O)"
   ]
  },
  {
   "cell_type": "markdown",
   "metadata": {
    "slideshow": {
     "slide_type": "fragment"
    }
   },
   "source": [
    "File Methoden (I/O) können verwendet werden um Daten in Python einzulesen bzw. nach der Verarbeitung abzuspeichern. Die wichtigsten I/O Methoden sind:\n",
    "\n",
    "* `.write()`: schreibt ein String Objekt in ein File.\n",
    "* `.read()`: liest aus einem Fileobjekt gibt ein Textobjekt zurück.\n",
    "\n",
    "Für das einlesen bzw. abspeichern von Daten muss über die Funktion `open()` zunächst ein Fileobjekt erstellt werden. Der erste Input bestimmt dabei den Dateinamen, der zweite Input den Modus (`r` für lesen, `w` für schreiben) und der dritte Input die Text Enkodierung."
   ]
  },
  {
   "cell_type": "markdown",
   "metadata": {
    "slideshow": {
     "slide_type": "subslide"
    }
   },
   "source": [
    "Arbeitsverzeichnis wechseln (passt euer Verzeichnis entsprechend an):"
   ]
  },
  {
   "cell_type": "code",
   "execution_count": 58,
   "metadata": {
    "slideshow": {
     "slide_type": "fragment"
    }
   },
   "outputs": [
    {
     "name": "stdout",
     "output_type": "stream",
     "text": [
      "C:\\Users\\ekara\\Documents\\GitHub\\python_data_scraping\\notebooks\n"
     ]
    }
   ],
   "source": [
    "%cd \"C:\\Users\\ekara\\Documents\\GitHub\\python_data_scraping\\notebooks\""
   ]
  },
  {
   "cell_type": "markdown",
   "metadata": {
    "slideshow": {
     "slide_type": "subslide"
    }
   },
   "source": [
    "Beispielliste anlegen:"
   ]
  },
  {
   "cell_type": "code",
   "execution_count": 59,
   "metadata": {
    "slideshow": {
     "slide_type": "fragment"
    }
   },
   "outputs": [],
   "source": [
    "towrite = ['Enkodierung', 'erzeugt', 'Aerger', '€nkôdíerung_ärzäugt_Ärger']"
   ]
  },
  {
   "cell_type": "code",
   "execution_count": 60,
   "metadata": {
    "slideshow": {
     "slide_type": "fragment"
    }
   },
   "outputs": [],
   "source": [
    "with open('myfile.txt', 'w', encoding = 'utf-8') as f:\n",
    "    for word in towrite:\n",
    "        f.write(word + '\\n')"
   ]
  },
  {
   "cell_type": "code",
   "execution_count": 61,
   "metadata": {
    "slideshow": {
     "slide_type": "subslide"
    }
   },
   "outputs": [
    {
     "name": "stdout",
     "output_type": "stream",
     "text": [
      "['Enkodierung', 'erzeugt', 'Aerger', '€nkôdíerung_ärzäugt_Ärger']\n"
     ]
    }
   ],
   "source": [
    "with open('myfile.txt', 'r', encoding = 'utf-8') as f:\n",
    "    toread = f.read().split('\\n')[:-1] # split\n",
    "print(toread)"
   ]
  },
  {
   "cell_type": "markdown",
   "metadata": {
    "slideshow": {
     "slide_type": "subslide"
    }
   },
   "source": [
    "### Enkodierung von Texten"
   ]
  },
  {
   "cell_type": "markdown",
   "metadata": {
    "slideshow": {
     "slide_type": "fragment"
    }
   },
   "source": [
    "Texte werden von Computern in Form von Zahlen abgespeichert. Für jedes Textsymbol, z.B. `a`, gibt es eine Zahl, über die das jeweilige Symbol [kodiert](https://de.wikipedia.org/wiki/Zeichenkodierung) wird."
   ]
  },
  {
   "cell_type": "code",
   "execution_count": 62,
   "metadata": {
    "scrolled": true,
    "slideshow": {
     "slide_type": "subslide"
    }
   },
   "outputs": [
    {
     "data": {
      "text/html": [
       "\n",
       "        <iframe\n",
       "            width=\"800\"\n",
       "            height=\"400\"\n",
       "            src=\"https://www.asciitable.com/\"\n",
       "            frameborder=\"0\"\n",
       "            allowfullscreen\n",
       "        ></iframe>\n",
       "        "
      ],
      "text/plain": [
       "<IPython.lib.display.IFrame at 0x2138dc1e1c0>"
      ]
     },
     "execution_count": 62,
     "metadata": {},
     "output_type": "execute_result"
    }
   ],
   "source": [
    "from IPython.display import IFrame\n",
    "IFrame(\"https://www.asciitable.com/\", width = \"800\", height = \"400\")"
   ]
  },
  {
   "cell_type": "markdown",
   "metadata": {
    "slideshow": {
     "slide_type": "subslide"
    }
   },
   "source": [
    "Allerdings gibt es mittlerweile viele verschiedene Standards für die Enkodierung von Texten (z.B. [ASCII](https://de.wikipedia.org/wiki/American_Standard_Code_for_Information_Interchange), oder Unicode Zeichensätze wie [UTF-8](https://de.wikipedia.org/wiki/UTF-8), [UTF-16](https://de.wikipedia.org/wiki/UTF-16) und [Latin-1](https://de.wikipedia.org/wiki/ISO_8859-1)). Wenn einem Programm beim einlesen von Text die falsche Enkodierung übergeben wird, werden die Zeichen nicht mehr korrekt verarbeitet:"
   ]
  },
  {
   "cell_type": "code",
   "execution_count": 63,
   "metadata": {
    "slideshow": {
     "slide_type": "fragment"
    }
   },
   "outputs": [
    {
     "name": "stdout",
     "output_type": "stream",
     "text": [
      "['Enkodierung', 'erzeugt', 'Aerger', 'â\\x82¬nkÃ´dÃ\\xaderung_Ã¤rzÃ¤ugt_Ã\\x84rger', '']\n"
     ]
    }
   ],
   "source": [
    "with open('myfile.txt', 'r', encoding = 'latin-1') as f:\n",
    "    toread = f.read().split('\\n') # split\n",
    "print(toread)"
   ]
  },
  {
   "cell_type": "markdown",
   "metadata": {
    "slideshow": {
     "slide_type": "subslide"
    }
   },
   "source": [
    "Es empfiehlt sich deshalb unbedingt, grundsätzlich alle Dateien in einer einheitlichen Kodierung abzuspeichern. Als eine der häufigsten Kodierungen bietet sich als Standard `utf-8` an.    \n",
    "Falls beim einlesen von Daten die Kodierung nicht bekannt ist, müssen notfalls verschiedene Kodierungen getestet werden. "
   ]
  },
  {
   "cell_type": "markdown",
   "metadata": {
    "slideshow": {
     "slide_type": "slide"
    }
   },
   "source": [
    "## Python Pakete"
   ]
  },
  {
   "cell_type": "markdown",
   "metadata": {
    "slideshow": {
     "slide_type": "subslide"
    }
   },
   "source": [
    "Alle bisher verwenden Datentypen, Funktionen, etc., sind in der Standardbibliothek von Python. Mittlerweile existieren tausende von Zusatzpaketen, die bestimmte Problemstellen vereinfachen. Insbesondere beim Data Scraping werden wir mehrere Zusatzbibliotheken nutzen.\n",
    "\n",
    "Zusatzpakete werden über den Befehl `import` eingelesen. Dabei kann entweder die komplette Bibliothek, oder nur eine bestimmte funktion importiert werden. Beispiele: Paket [time](https://docs.python.org/3/library/time.html) und Funktion `Counter` aus [collections](https://docs.python.org/3/library/collections.html)."
   ]
  },
  {
   "cell_type": "code",
   "execution_count": 64,
   "metadata": {
    "slideshow": {
     "slide_type": "fragment"
    }
   },
   "outputs": [],
   "source": [
    "import time\n",
    "from collections import Counter"
   ]
  },
  {
   "cell_type": "markdown",
   "metadata": {
    "slideshow": {
     "slide_type": "subslide"
    }
   },
   "source": [
    "Ansschließend sind die entsprechenden Module und Funktionen im `namespace` enthalten und können verwendet werden:"
   ]
  },
  {
   "cell_type": "code",
   "execution_count": 65,
   "metadata": {
    "slideshow": {
     "slide_type": "fragment"
    }
   },
   "outputs": [
    {
     "name": "stdout",
     "output_type": "stream",
     "text": [
      "time.struct_time(tm_year=2021, tm_mon=10, tm_mday=31, tm_hour=1, tm_min=36, tm_sec=38, tm_wday=6, tm_yday=304, tm_isdst=1)\n"
     ]
    }
   ],
   "source": [
    "print(time.localtime())"
   ]
  },
  {
   "cell_type": "code",
   "execution_count": 66,
   "metadata": {
    "slideshow": {
     "slide_type": "subslide"
    }
   },
   "outputs": [
    {
     "name": "stdout",
     "output_type": "stream",
     "text": [
      "Counter({1: 2, 2: 2, 7: 2, 3: 1, '2': 1, 4: 1, 6: 1, 9: 1})\n"
     ]
    }
   ],
   "source": [
    "to_count = [1, 2, 3, 1, 7, '2', 4, 6, 9, 2, 7]\n",
    "count_dic = Counter(to_count)\n",
    "print(count_dic)"
   ]
  },
  {
   "cell_type": "markdown",
   "metadata": {
    "slideshow": {
     "slide_type": "subslide"
    }
   },
   "source": [
    "### JSON\n",
    "\n",
    "Das Python Paket [json](https://docs.python.org/3/library/json.html) ermöglicht des einlesen und abspeichern von Daten im [JavaScript Object Notation](https://de.wikipedia.org/wiki/JavaScript_Object_Notation) Format - kurz `JSON`. Die wichtigsten Funktionen sind `load()` und `dump()`:"
   ]
  },
  {
   "cell_type": "code",
   "execution_count": 4,
   "metadata": {
    "slideshow": {
     "slide_type": "fragment"
    }
   },
   "outputs": [],
   "source": [
    "import json\n",
    "nested = {'structured': {'spreadsheets': 'flat', 'json': 'tree'},\n",
    "          'unstructured':  [{'type': 'natural language', 'format': 'txt'}, \n",
    "                              {'type' : 'image', 'format': 'png'}]}\n",
    "\n",
    "with open('example_dict.json', 'w', encoding = 'utf-8') as f:\n",
    "    json.dump(nested, # das abzuspeichernde Daten-Objekt\n",
    "              f,      # das geöffnete File-Objekt\n",
    "             ensure_ascii = False, # für UTF-8 Kompatibilität\n",
    "             indent = 2) # optional: einrücken genesteter Datenstrukturen"
   ]
  },
  {
   "cell_type": "code",
   "execution_count": 5,
   "metadata": {
    "slideshow": {
     "slide_type": "subslide"
    }
   },
   "outputs": [
    {
     "data": {
      "text/plain": [
       "dict"
      ]
     },
     "execution_count": 5,
     "metadata": {},
     "output_type": "execute_result"
    }
   ],
   "source": [
    "with open('example_dict.json', 'r', encoding = 'utf-8') as f:\n",
    "    nested2 = json.load(f)\n",
    "    \n",
    "nested == nested2\n",
    "type(nested)"
   ]
  },
  {
   "cell_type": "code",
   "execution_count": 69,
   "metadata": {
    "slideshow": {
     "slide_type": "subslide"
    }
   },
   "outputs": [
    {
     "name": "stdout",
     "output_type": "stream",
     "text": [
      "{    'structured': {'json': 'tree', 'spreadsheets': 'flat'},\n",
      "     'unstructured': [    {'format': 'txt', 'type': 'natural language'},\n",
      "                          {'format': 'png', 'type': 'image'}]}\n"
     ]
    }
   ],
   "source": [
    "from pprint import pprint # uebersichtliche ausgabe\n",
    "pprint(nested, \n",
    "       indent = 5) # output einruecken"
   ]
  },
  {
   "cell_type": "markdown",
   "metadata": {
    "slideshow": {
     "slide_type": "subslide"
    }
   },
   "source": [
    "## Übungsaufgabe 3\n",
    "\n",
    "Speichert die beiden Tweets aus Übungsaufgabe 2 mit Hilfe der Python I/O und JSON Funktionen auf eurer Festplatte."
   ]
  },
  {
   "cell_type": "code",
   "execution_count": 1,
   "metadata": {
    "slideshow": {
     "slide_type": "subslide"
    }
   },
   "outputs": [
    {
     "ename": "NameError",
     "evalue": "name 'tweets' is not defined",
     "output_type": "error",
     "traceback": [
      "\u001b[1;31m---------------------------------------------------------------------------\u001b[0m",
      "\u001b[1;31mNameError\u001b[0m                                 Traceback (most recent call last)",
      "\u001b[1;32m<ipython-input-1-dc06504e150e>\u001b[0m in \u001b[0;36m<module>\u001b[1;34m\u001b[0m\n\u001b[0;32m      3\u001b[0m \u001b[1;33m\u001b[0m\u001b[0m\n\u001b[0;32m      4\u001b[0m \u001b[1;32mwith\u001b[0m \u001b[0mopen\u001b[0m\u001b[1;33m(\u001b[0m\u001b[1;34m'tweets.json'\u001b[0m\u001b[1;33m,\u001b[0m \u001b[1;34m'w'\u001b[0m\u001b[1;33m,\u001b[0m \u001b[0mencoding\u001b[0m \u001b[1;33m=\u001b[0m \u001b[1;34m'utf-8'\u001b[0m\u001b[1;33m)\u001b[0m \u001b[1;32mas\u001b[0m \u001b[0mf\u001b[0m\u001b[1;33m:\u001b[0m\u001b[1;33m\u001b[0m\u001b[1;33m\u001b[0m\u001b[0m\n\u001b[1;32m----> 5\u001b[1;33m     json.dump(tweets,\n\u001b[0m\u001b[0;32m      6\u001b[0m              \u001b[0mf\u001b[0m\u001b[1;33m,\u001b[0m\u001b[1;33m\u001b[0m\u001b[1;33m\u001b[0m\u001b[0m\n\u001b[0;32m      7\u001b[0m              \u001b[0mensure_ascii\u001b[0m \u001b[1;33m=\u001b[0m \u001b[1;32mFalse\u001b[0m\u001b[1;33m,\u001b[0m\u001b[1;33m\u001b[0m\u001b[1;33m\u001b[0m\u001b[0m\n",
      "\u001b[1;31mNameError\u001b[0m: name 'tweets' is not defined"
     ]
    }
   ],
   "source": [
    "# Code für Übungsaufgabe 3\n",
    "import json\n",
    "\n",
    "with open('tweets.json', 'w', encoding = 'utf-8') as f: \n",
    "    json.dump(tweets,\n",
    "             f,\n",
    "             ensure_ascii = False,\n",
    "             indent = 2)\n",
    "type(f)"
   ]
  },
  {
   "cell_type": "code",
   "execution_count": 71,
   "metadata": {},
   "outputs": [
    {
     "data": {
      "text/plain": [
       "True"
      ]
     },
     "execution_count": 71,
     "metadata": {},
     "output_type": "execute_result"
    }
   ],
   "source": [
    "with open('tweets.json', 'r', encoding = 'utf=8') as f:\n",
    "    tweets2 = json.load(f)\n",
    "    \n",
    "tweets == tweets2"
   ]
  },
  {
   "cell_type": "markdown",
   "metadata": {
    "slideshow": {
     "slide_type": "subslide"
    }
   },
   "source": [
    "<br>\n",
    "<br>\n",
    "\n",
    "\n",
    "___\n",
    "\n",
    "                \n",
    "**Kontakt: Carsten Schwemmer** (Webseite: www.carstenschwemmer.com,  Email: c.schwem2er@gmail.com)"
   ]
  }
 ],
 "metadata": {
  "kernelspec": {
   "display_name": "Python 3",
   "language": "python",
   "name": "python3"
  },
  "language_info": {
   "codemirror_mode": {
    "name": "ipython",
    "version": 3
   },
   "file_extension": ".py",
   "mimetype": "text/x-python",
   "name": "python",
   "nbconvert_exporter": "python",
   "pygments_lexer": "ipython3",
   "version": "3.8.8"
  }
 },
 "nbformat": 4,
 "nbformat_minor": 2
}
