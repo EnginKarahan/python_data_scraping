{
 "cells": [
  {
   "cell_type": "markdown",
   "metadata": {
    "collapsed": true,
    "slideshow": {
     "slide_type": "slide"
    }
   },
   "source": [
    "# 3 - Bedingungen, Funktionen und Schleifen"
   ]
  },
  {
   "cell_type": "markdown",
   "metadata": {
    "slideshow": {
     "slide_type": "subslide"
    }
   },
   "source": [
    "## Bedingungen"
   ]
  },
  {
   "cell_type": "markdown",
   "metadata": {
    "slideshow": {
     "slide_type": "fragment"
    }
   },
   "source": [
    "### `if`\n",
    "\n",
    "\n",
    "`if` prüft eine Bedingung und führt nachfolgende Operationen aus, wenn die Bedingung erfüllt ist.\n",
    "\n",
    "`else` muss nach `if` stehen. Führt Operation aus, wenn das vorangegangene `if` nicht erfüllt wurde.\n",
    "\n",
    "`elif` muss nach `if` und vor `else` (optional) stehen. Prüft eine weitere `if`-Bedingung."
   ]
  },
  {
   "cell_type": "code",
   "execution_count": null,
   "metadata": {
    "slideshow": {
     "slide_type": "subslide"
    }
   },
   "outputs": [],
   "source": [
    "if 7 != 7:\n",
    "    print('Wahr!')\n",
    "else:\n",
    "    print('Falsch!')"
   ]
  },
  {
   "cell_type": "code",
   "execution_count": null,
   "metadata": {
    "slideshow": {
     "slide_type": "subslide"
    }
   },
   "outputs": [],
   "source": [
    "if 1 < 2:\n",
    "    print('Wahr!')\n",
    "else: \n",
    "    print('Falsch!')"
   ]
  },
  {
   "cell_type": "code",
   "execution_count": null,
   "metadata": {
    "slideshow": {
     "slide_type": "subslide"
    }
   },
   "outputs": [],
   "source": [
    "zahl = input('Ganze Zahl eingeben:')\n",
    "\n",
    "if not zahl.isdigit():\n",
    "    print('Keine ganze Zahl!')\n",
    "elif int(zahl) % 2 != 0: #  % = Rest-Operator , int() konvertiert String zu Zahl\n",
    "    print('Ungerade!')\n",
    "else: \n",
    "    print('Gerade!')"
   ]
  },
  {
   "cell_type": "markdown",
   "metadata": {
    "slideshow": {
     "slide_type": "subslide"
    }
   },
   "source": [
    "### Boolsche Ausdrücke\n",
    "\n",
    "* `True` und `False`\n",
    "* `1` und `0`\n",
    "*  `None` ist immer `False`\n",
    "* Leere Objekte (`[]`, `()`, `{}`, etc.) evaluieren immer als `False`\n",
    "\n",
    "Siehe auch [Python Docs](https://docs.python.org/3/library/stdtypes.html#truth-value-testing)"
   ]
  },
  {
   "cell_type": "code",
   "execution_count": null,
   "metadata": {
    "slideshow": {
     "slide_type": "subslide"
    }
   },
   "outputs": [],
   "source": [
    "L = []\n",
    "if L: # Boolsche Abfrage\n",
    "    print(L[0])\n",
    "else: \n",
    "    print('Leere Liste')\n",
    "    L.append(3)\n",
    "print(L)"
   ]
  },
  {
   "cell_type": "markdown",
   "metadata": {
    "slideshow": {
     "slide_type": "subslide"
    }
   },
   "source": [
    "### Übungsaufgabe 1\n",
    "\n",
    "Schreibt ein Programm, dass überprüft ob ein Input String \"spam\" beinhaltet oder nicht. Falls \"spam\" gefunden wurde, soll die Anzahl der \"spam\" Substrings ausgeben. Wird kein \"spam\" gefunden soll ein entsprechender Hinweis ausgedruckt werden. "
   ]
  },
  {
   "cell_type": "code",
   "execution_count": null,
   "metadata": {
    "slideshow": {
     "slide_type": "subslide"
    }
   },
   "outputs": [],
   "source": [
    "# Code für Übungsaufgabe 1\n"
   ]
  },
  {
   "cell_type": "markdown",
   "metadata": {
    "slideshow": {
     "slide_type": "subslide"
    }
   },
   "source": [
    "### Übungsaufgabe 2 \n",
    "Schreibt ein Programm, dass die Teilbarkeit einer Zahl überprüft. Wenn die Zahl durch 5 und durch 3 teilbar ist, soll das Programm einen entsprechenden Hinweis drucken. Weiterhin soll unterschieden und gedruckt werden, ob die Zahl nur durch 5, nur durch 3, oder weder durch 5 noch 3 teilbar ist.\n",
    "\n",
    "*Input/Output Beispiele*: \n",
    "\n",
    "```    \n",
    "5   --> \"durch 5 teilbar\"\n",
    "15  --> \"durch 5 und durch 3 teilbar\"\n",
    "2   --> \"weder durch 3 noch durch 5 teilbar\"\n",
    "```"
   ]
  },
  {
   "cell_type": "code",
   "execution_count": null,
   "metadata": {
    "slideshow": {
     "slide_type": "subslide"
    }
   },
   "outputs": [],
   "source": [
    "# Code Übungsaufgabe 2\n"
   ]
  },
  {
   "cell_type": "markdown",
   "metadata": {
    "slideshow": {
     "slide_type": "slide"
    }
   },
   "source": [
    "## Funktionen definieren"
   ]
  },
  {
   "cell_type": "markdown",
   "metadata": {
    "slideshow": {
     "slide_type": "subslide"
    }
   },
   "source": [
    "Funktionen in Python erhalten Input(s) und erzeugen in der Regel nach deren Verarbeitung Output(s). Wenn funktionen einmal im Arbeitsspeicher abgelegt werden, können diese anschließend beliebig häufig wieder verwendet werden:"
   ]
  },
  {
   "cell_type": "code",
   "execution_count": null,
   "metadata": {
    "slideshow": {
     "slide_type": "subslide"
    }
   },
   "outputs": [],
   "source": [
    "def largest_number(input_liste): # name und input\n",
    "    max_number = max(input_liste)\n",
    "    print(len(input_liste))\n",
    "    return max_number\n",
    "\n",
    "test = largest_number([9, 4, 9, 23, 9, 4000])\n",
    "print(test)"
   ]
  },
  {
   "cell_type": "markdown",
   "metadata": {
    "slideshow": {
     "slide_type": "subslide"
    }
   },
   "source": [
    "Selbstdefinierte Funktionen sind besonders dann nützlich, wenn bestimmte Abläufe mehrmals wiederholt werden - [DRY - Don't repeat yourself!](https://de.wikipedia.org/wiki/Don%E2%80%99t_repeat_yourself)\n",
    "\n",
    "Als Faustregel gilt:  Wenn ein bestimmter Prozess >= 3 mal verwendet werden muss, lohnt es sich dafür eine Funktion zu schreiben."
   ]
  },
  {
   "cell_type": "markdown",
   "metadata": {
    "slideshow": {
     "slide_type": "subslide"
    }
   },
   "source": [
    "### Übungaufgabe 3\n",
    "\n",
    "Schreibe eine Funktion, die für eine Liste mit beliebig vielen Zahlen (Input) das arithmetische Mittel der Zahlen ausgibt (Output). *Hinweis: Funktion* ``sum()`` \n",
    "\n",
    "*Bonusaufgabe: Erstellt eine weitere Funktion für den [Median](https://de.wikipedia.org/wiki/Median).*"
   ]
  },
  {
   "cell_type": "code",
   "execution_count": null,
   "metadata": {
    "slideshow": {
     "slide_type": "subslide"
    }
   },
   "outputs": [],
   "source": [
    "# Code Übungsaufgabe 3\n"
   ]
  },
  {
   "cell_type": "markdown",
   "metadata": {
    "slideshow": {
     "slide_type": "slide"
    }
   },
   "source": [
    "## Schleifen\n",
    "Anweisung eine Operation entsprechend bestimmter Regeln zu wiederholen. Die Objekte auf die sich die Operation bezieht, können sich dabei verändern.\n",
    "\n",
    "Kommt in zwei Varianten\n",
    "\n",
    "* `while`-Schleife\n",
    "* `for`-Schleife\n",
    "\n",
    "Siehe auch [Python Docs](https://docs.python.org/3/tutorial/controlflow.html)"
   ]
  },
  {
   "cell_type": "markdown",
   "metadata": {
    "slideshow": {
     "slide_type": "subslide"
    }
   },
   "source": [
    "### `while` - Schleifen\n",
    "\n",
    "1. Prüfe Bedingung.\n",
    "2. Wenn (IF) Bedingung wahr:\n",
    "    2. Führe Operation aus.\n",
    "    2. Gehe zu 1.\n",
    "3. Wenn Bedingung nicht erfüllt:\n",
    "    3. Beende Schleife"
   ]
  },
  {
   "cell_type": "markdown",
   "metadata": {
    "slideshow": {
     "slide_type": "subslide"
    }
   },
   "source": [
    "### Beispiel: Die  [Fibonacci-Serie](https://de.wikipedia.org/wiki/Fibonacci-Folge)\n",
    "\n",
    "$$  \n",
    "f_n =\n",
    "\\begin{cases}\n",
    "f_n = n,  & \\text{if $n \\le 2$} \\\\\n",
    "f_{n-1} + f_{n-2}, & \\text{if $n \\gt 2$}\n",
    "\\end{cases} \n",
    "$$\n",
    "\n",
    "$f = 0, 1, 1, 2, 3, 5, 8, 13, \\dots$"
   ]
  },
  {
   "cell_type": "code",
   "execution_count": null,
   "metadata": {
    "slideshow": {
     "slide_type": "fragment"
    }
   },
   "outputs": [],
   "source": [
    "def fibonacci(stop):  #  Input: Stopkriterium\n",
    "    L = []\n",
    "    a, b = 0, 1 \n",
    "    while a < stop:\n",
    "        L.append(a)\n",
    "        a, b = b, a + b\n",
    "    return L # Output: Liste der Fibonacci-Serie\n",
    "\n",
    "sequenz = fibonacci(2000000)\n",
    "print(sequenz)"
   ]
  },
  {
   "cell_type": "markdown",
   "metadata": {
    "slideshow": {
     "slide_type": "subslide"
    }
   },
   "source": [
    "**Achtung**: `while` Schleifen können *unendlich* lange laufen, wenn die zu überprüfende Eingangsbedingung nie als `False` evaluiert wird:"
   ]
  },
  {
   "cell_type": "code",
   "execution_count": null,
   "metadata": {
    "slideshow": {
     "slide_type": "fragment"
    }
   },
   "outputs": [],
   "source": [
    "i = 5\n",
    "while i > 0:\n",
    "    print(i)\n",
    "    print(\"Zwei mal 'i' drücken um das Programm abzubrechen!\")"
   ]
  },
  {
   "cell_type": "markdown",
   "metadata": {
    "slideshow": {
     "slide_type": "subslide"
    }
   },
   "source": [
    "Falls ein Notebook abstürzen sollte oder die Ausführung einer Zelle zu lange dauert, können Berechnungen über die Menüführung mit **Kernel -> Interrupt** unterbrochen werden bzw. über **Kernel -> Restart** das Notebook neugestartet werden. Bei einem Neustart müssen  sämtliche Berechnungen neu durchgeführt werden."
   ]
  },
  {
   "cell_type": "markdown",
   "metadata": {
    "slideshow": {
     "slide_type": "subslide"
    }
   },
   "source": [
    "## `for` - Schleifen\n",
    "\n",
    "`for` Schleifen zählen zu den nützlichsten Tools für die Verarbeitung von Daten. Das Grundprinzip:\n",
    "\n",
    "Für jedes Element einer Sequenz:\n",
    "    1. Führe Operation aus\n",
    "    2. Rufe nächstes Element\n",
    "    3. Wenn kein weiteres Element:\n",
    "           Beende Schleife.\n",
    "    4. Sonst:\n",
    "           Gehe zu 1.\n"
   ]
  },
  {
   "cell_type": "code",
   "execution_count": null,
   "metadata": {
    "slideshow": {
     "slide_type": "subslide"
    }
   },
   "outputs": [],
   "source": [
    "for element in [1, 2, 3]:\n",
    "    print(element)"
   ]
  },
  {
   "cell_type": "markdown",
   "metadata": {
    "slideshow": {
     "slide_type": "subslide"
    }
   },
   "source": [
    "Über eine `for` Schleife durch eine Liste mit Wörtern gehen und die Häufigkeit jedes Wortes zurück geben:"
   ]
  },
  {
   "cell_type": "code",
   "execution_count": null,
   "metadata": {
    "slideshow": {
     "slide_type": "fragment"
    }
   },
   "outputs": [],
   "source": [
    "spamskit = '''Well, there's egg and bacon; egg sausage and bacon;\n",
    "egg and spam; egg bacon and spam; egg bacon sausage and spam; spam bacon sausage and spam;\n",
    "spam egg spam spam bacon and spam; spam sausage spam spam bacon spam tomato and spam;'''\n",
    "print(spamskit)"
   ]
  },
  {
   "cell_type": "code",
   "execution_count": null,
   "metadata": {
    "slideshow": {
     "slide_type": "fragment"
    }
   },
   "outputs": [],
   "source": [
    "# Strings die über ''' geöffnet und geschlossen werden, dürfen Zeilenumbrüche beinhalten\n",
    "tokens = spamskit.split()\n",
    "print(tokens)"
   ]
  },
  {
   "cell_type": "code",
   "execution_count": null,
   "metadata": {
    "slideshow": {
     "slide_type": "fragment"
    }
   },
   "outputs": [],
   "source": [
    "print(len(tokens))\n",
    "print(len(set(tokens))) # Sets sind Mengen und eliminieren Dopplungen in Objekten"
   ]
  },
  {
   "cell_type": "code",
   "execution_count": null,
   "metadata": {
    "scrolled": false,
    "slideshow": {
     "slide_type": "subslide"
    }
   },
   "outputs": [],
   "source": [
    "## Häufigkeit der Wörter ausgeben:\n",
    "for token in set(tokens):\n",
    "    print(token, tokens.count(token))"
   ]
  },
  {
   "cell_type": "markdown",
   "metadata": {
    "slideshow": {
     "slide_type": "subslide"
    }
   },
   "source": [
    "### Übungsaufgabe 4\n",
    "\n",
    "Schreibt ein Programm, dass für eine Liste, die ganze Zahlen beinhaltet, für jede gerade Zahl das Quadrat der Zahl und jede ungerade Zahl unverändert ausgibt. \n",
    "\n",
    "4 -> quadrat(4)    \n",
    "5 -> 5"
   ]
  },
  {
   "cell_type": "code",
   "execution_count": null,
   "metadata": {
    "slideshow": {
     "slide_type": "subslide"
    }
   },
   "outputs": [],
   "source": [
    "# Code für Übungsaufgabe 4\n"
   ]
  },
  {
   "cell_type": "markdown",
   "metadata": {
    "slideshow": {
     "slide_type": "subslide"
    }
   },
   "source": [
    "### Übungsaufgabe 5\n",
    "\n",
    "Schreibt eine Funktion, welcher als Input ein String übergeben wird. Als Output soll die Funktion eine Liste mit allen Wörtern (in lowercase) des Strings ohne Sonderzeichen enthalten. *Hinweis: Methode .isalpha() prüft, ob ein String ausschließlich alphabetische Zeichen enthält.* \n",
    "\n",
    "*Input/Output Beispiel*: \n",
    "\n",
    "```    \n",
    "Input: \"Only 10 kinds of people €xist in th3 world: \n",
    "Th0se wh0 underst@nd binary and th0se wh0 d0 not!\" \n",
    "\n",
    "Output: [\"only\", \"kinds\", \"of\", \"people\", \"in\", \"binary\", \"and\"]\n",
    "```\n"
   ]
  },
  {
   "cell_type": "code",
   "execution_count": null,
   "metadata": {
    "scrolled": true,
    "slideshow": {
     "slide_type": "subslide"
    }
   },
   "outputs": [],
   "source": [
    "# Code für Übungsaufgabe 5\n"
   ]
  },
  {
   "cell_type": "markdown",
   "metadata": {
    "slideshow": {
     "slide_type": "subslide"
    }
   },
   "source": [
    "<br>\n",
    "<br>\n",
    "\n",
    "\n",
    "___\n",
    "\n",
    "                \n",
    "**Kontakt: Carsten Schwemmer** (Webseite: www.carstenschwemmer.com,  Email: c.schwem2er@gmail.com)"
   ]
  }
 ],
 "metadata": {
  "celltoolbar": "Slideshow",
  "kernelspec": {
   "display_name": "Python 3",
   "language": "python",
   "name": "python3"
  },
  "language_info": {
   "codemirror_mode": {
    "name": "ipython",
    "version": 3
   },
   "file_extension": ".py",
   "mimetype": "text/x-python",
   "name": "python",
   "nbconvert_exporter": "python",
   "pygments_lexer": "ipython3",
   "version": "3.7.6"
  }
 },
 "nbformat": 4,
 "nbformat_minor": 2
}
