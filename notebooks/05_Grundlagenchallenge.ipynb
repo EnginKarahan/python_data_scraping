{
 "cells": [
  {
   "cell_type": "markdown",
   "metadata": {
    "slideshow": {
     "slide_type": "slide"
    }
   },
   "source": [
    "## Python Grundlagen - Challenge"
   ]
  },
  {
   "cell_type": "markdown",
   "metadata": {
    "slideshow": {
     "slide_type": "fragment"
    }
   },
   "source": [
    "\n",
    "\n",
    "- Die Datei `guardian_articles_corona.json` beinhaltet utf-8 kodierte Artikel zum Suchbegriff *coronavirus* für das Jahr 2020 aus der [The Guardian API](http://open-platform.theguardian.com/)  (abgerufen am 13.05.2020)\n",
    "- Ziel ist es, die Datenstruktur so zu vereinfachen, dass im Anschluss Analysen durchgeführt werden können \n",
    "- Orientiert euch bei Problemen zunächst an den bisherigen Notebooks aus dem Kurs \n",
    "- Die nachfolgende Challenge sind umfangreicher als die bisherigen Übungsaufgaben. Es ist in Ordnung wenn die Lösung mehr Zeit in Anspruch nimmt"
   ]
  },
  {
   "cell_type": "markdown",
   "metadata": {
    "slideshow": {
     "slide_type": "skip"
    }
   },
   "source": [
    "### 1.\n",
    "\n",
    "Ladet die `JSON` Datei herunter, lest diese in Python ein und macht euch mit der Datenstruktur vertraut. Wie viele Artikel enthält die Datei? \n",
    "\n",
    "### 2. \n",
    "\n",
    "Schreibt eine Funktion um die Liste mit Artikeln zu verarbeiten. Vereinfacht die Datenstruktur dabei entsprechend dem folgenden Input / Output Beispiel:\n",
    "\n",
    "**Input:**\n",
    "\n",
    "```\n",
    "{\n",
    "    'id': 'world/2020/may/08/coronavirus-the-week-explained',\n",
    "    'type\": 'article',\n",
    "    'sectionId': \"world',\n",
    "    'sectionName': 'World news',\n",
    "    'webPublicationDate': '2020-05-08T10:54:45Z',\n",
    "    'webTitle': 'Coronavirus: the week explained',\n",
    "    'webUrl': 'https://www.theguardian.com/world/2020/may/08/coronavirus-the-week-explained',\n",
    "    'apiUrl': 'https://content.guardianapis.com/world/2020/may/08/coronavirus-the-week-explained',\n",
    "    'fields': {\n",
    "      'bodyText': 'Welcome to our weekly roundup of developments in the coronavirus pandemic, which continues ...',\n",
    "      'charCount': '6139'},     \n",
    "   'tags': \n",
    "   [{'id': 'world/coronavirus-outbreak',\n",
    "   'type': 'keyword',\n",
    "   'sectionId': 'world',\n",
    "   'sectionName': 'World news',\n",
    "   'webTitle': 'Coronavirus outbreak',\n",
    "   'webUrl': 'https://www.theguardian.com/world/coronavirus-outbreak',\n",
    "   'apiUrl': 'https://content.guardianapis.com/world/coronavirus-outbreak',\n",
    "   'references': []},\n",
    "  {'id': 'science/science',\n",
    "   'type': 'keyword',\n",
    "   'sectionId': 'science',\n",
    "   'sectionName': 'Science',\n",
    "   'webTitle': 'Science',\n",
    "   'webUrl': 'https://www.theguardian.com/science/science',\n",
    "   'apiUrl': 'https://content.guardianapis.com/science/science',\n",
    "   'references': []}]\n",
    "   ...\n",
    "\n",
    "```\n",
    "\n",
    "**Output:**\n",
    "\n",
    "```\n",
    "{'chars': 6139,\n",
    " 'id': 'world/2020/may/08/coronavirus-the-week-explained',\n",
    " 'section': 'World news',\n",
    " 'tags': 'world/coronavirus-outbreak, science/science',\n",
    " 'text': 'Welcome to our weekly roundup of developments in the coronavirus pandemic, which continues ...',\n",
    " 'title': 'Coronavirus: the week explained',\n",
    " 'url': 'https://www.theguardian.com/world/2020/may/08/coronavirus-the-week-explained',\n",
    " 'month': 5}\n",
    "```\n",
    "\n",
    "### 3.\n",
    "Die Variable `chars` in euren verarbeiteten Artikeln beinhaltet die jeweilige Anzahl der Zeichen des Texts. Überprüft exemplarisch anhand eines Artikels, ob die Angabe korrekt ist.\n",
    "      \n",
    "### 4.\n",
    "Findet heraus in welchem Monat die meisten Artikel veröffentlicht wurden.\n",
    "\n",
    "### 5.\n",
    "Findet die drei meistgenutzten Tags aus allen Artikeln.\n",
    "\n",
    "### 6.\n",
    "Gebt die Titel der fünf längsten Artikel (= Anzahl Zeichen) aus.\n",
    "\n",
    "### 7.\n",
    "Speichert die verarbeiteten Artikel in einer `JSON` Datei ab. Achtet darauf, die Textkodierung auf `utf-8` zu setzen."
   ]
  },
  {
   "cell_type": "code",
   "execution_count": 1,
   "metadata": {
    "slideshow": {
     "slide_type": "subslide"
    }
   },
   "outputs": [],
   "source": [
    "# Code für Grundlagenchallenge"
   ]
  },
  {
   "cell_type": "markdown",
   "metadata": {
    "slideshow": {
     "slide_type": "subslide"
    }
   },
   "source": [
    "<br>\n",
    "<br>\n",
    "\n",
    "\n",
    "___\n",
    "\n",
    "                \n",
    "**Kontakt: Carsten Schwemmer** (Webseite: www.carstenschwemmer.com,  Email: c.schwem2er@gmail.com)"
   ]
  }
 ],
 "metadata": {
  "kernelspec": {
   "display_name": "Python 3",
   "language": "python",
   "name": "python3"
  },
  "language_info": {
   "codemirror_mode": {
    "name": "ipython",
    "version": 3
   },
   "file_extension": ".py",
   "mimetype": "text/x-python",
   "name": "python",
   "nbconvert_exporter": "python",
   "pygments_lexer": "ipython3",
   "version": "3.7.6"
  }
 },
 "nbformat": 4,
 "nbformat_minor": 2
}
